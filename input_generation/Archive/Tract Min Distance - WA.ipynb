{
 "cells": [
  {
   "cell_type": "code",
   "execution_count": 1,
   "id": "c41499fb",
   "metadata": {},
   "outputs": [],
   "source": [
    "import geopy.distance\n",
    "import pandas as pd\n",
    "import numpy as np\n",
    "import os\n",
    "import csv\n",
    "#import shapefile\n",
    "import matplotlib.pyplot as plt"
   ]
  },
  {
   "cell_type": "markdown",
   "id": "14a6323b",
   "metadata": {},
   "source": [
    "## 1 - Creating the new dataframe"
   ]
  },
  {
   "cell_type": "code",
   "execution_count": 2,
   "id": "6d01f24f",
   "metadata": {},
   "outputs": [],
   "source": [
    "csv_file_path = 'Downloads/distance_matrix_by_tracts_WA.csv'\n",
    "df = pd.read_csv(csv_file_path)"
   ]
  },
  {
   "cell_type": "code",
   "execution_count": 3,
   "id": "7602037b",
   "metadata": {},
   "outputs": [
    {
     "data": {
      "text/html": [
       "<div>\n",
       "<style scoped>\n",
       "    .dataframe tbody tr th:only-of-type {\n",
       "        vertical-align: middle;\n",
       "    }\n",
       "\n",
       "    .dataframe tbody tr th {\n",
       "        vertical-align: top;\n",
       "    }\n",
       "\n",
       "    .dataframe thead th {\n",
       "        text-align: right;\n",
       "    }\n",
       "</style>\n",
       "<table border=\"1\" class=\"dataframe\">\n",
       "  <thead>\n",
       "    <tr style=\"text-align: right;\">\n",
       "      <th></th>\n",
       "      <th>Unnamed: 0</th>\n",
       "      <th>origin</th>\n",
       "      <th>destination</th>\n",
       "      <th>distance</th>\n",
       "    </tr>\n",
       "  </thead>\n",
       "  <tbody>\n",
       "    <tr>\n",
       "      <th>0</th>\n",
       "      <td>1</td>\n",
       "      <td>53011040102</td>\n",
       "      <td>6015000101</td>\n",
       "      <td>296.841093</td>\n",
       "    </tr>\n",
       "    <tr>\n",
       "      <th>1</th>\n",
       "      <td>2</td>\n",
       "      <td>53011040201</td>\n",
       "      <td>6015000101</td>\n",
       "      <td>296.357495</td>\n",
       "    </tr>\n",
       "    <tr>\n",
       "      <th>2</th>\n",
       "      <td>3</td>\n",
       "      <td>53011040202</td>\n",
       "      <td>6015000101</td>\n",
       "      <td>298.009889</td>\n",
       "    </tr>\n",
       "    <tr>\n",
       "      <th>3</th>\n",
       "      <td>4</td>\n",
       "      <td>53011040203</td>\n",
       "      <td>6015000101</td>\n",
       "      <td>293.993493</td>\n",
       "    </tr>\n",
       "    <tr>\n",
       "      <th>4</th>\n",
       "      <td>5</td>\n",
       "      <td>53011040301</td>\n",
       "      <td>6015000101</td>\n",
       "      <td>292.287234</td>\n",
       "    </tr>\n",
       "  </tbody>\n",
       "</table>\n",
       "</div>"
      ],
      "text/plain": [
       "   Unnamed: 0       origin  destination    distance\n",
       "0           1  53011040102   6015000101  296.841093\n",
       "1           2  53011040201   6015000101  296.357495\n",
       "2           3  53011040202   6015000101  298.009889\n",
       "3           4  53011040203   6015000101  293.993493\n",
       "4           5  53011040301   6015000101  292.287234"
      ]
     },
     "execution_count": 3,
     "metadata": {},
     "output_type": "execute_result"
    }
   ],
   "source": [
    "df.head()"
   ]
  },
  {
   "cell_type": "code",
   "execution_count": 4,
   "id": "b753e31b",
   "metadata": {},
   "outputs": [
    {
     "data": {
      "text/plain": [
       "3235483"
      ]
     },
     "execution_count": 4,
     "metadata": {},
     "output_type": "execute_result"
    }
   ],
   "source": [
    "len(df)"
   ]
  },
  {
   "cell_type": "code",
   "execution_count": 5,
   "id": "109029be",
   "metadata": {},
   "outputs": [],
   "source": [
    "# First check - make sure there are no internal trips (i.e. tract in WA to tract in WA)"
   ]
  },
  {
   "cell_type": "code",
   "execution_count": 6,
   "id": "2fb6812d",
   "metadata": {},
   "outputs": [],
   "source": [
    "val1 = 53011040102\n",
    "val2 = 53011040102\n",
    "row_exists = (df['origin'] == val1) & (df['destination'] == val2)"
   ]
  },
  {
   "cell_type": "code",
   "execution_count": 7,
   "id": "9aba57f3",
   "metadata": {},
   "outputs": [
    {
     "name": "stdout",
     "output_type": "stream",
     "text": [
      "Row exists\n"
     ]
    }
   ],
   "source": [
    "if row_exists.any():\n",
    "    print(\"Row exists\")\n",
    "else:\n",
    "    print(\"Row does not exist\")"
   ]
  },
  {
   "cell_type": "code",
   "execution_count": 8,
   "id": "ef11bf95",
   "metadata": {},
   "outputs": [],
   "source": [
    "# Need to flag destinations in California\n",
    "# State GEOID is 53. Hence numbers between 6000000000 and 6999999999 are in California\n",
    "df['dest_WA'] = np.where((df['destination'] >= 53000000000) & (df['destination'] <= 53999999999) , 1, 0)"
   ]
  },
  {
   "cell_type": "code",
   "execution_count": 9,
   "id": "38b6f2dd",
   "metadata": {},
   "outputs": [
    {
     "data": {
      "text/html": [
       "<div>\n",
       "<style scoped>\n",
       "    .dataframe tbody tr th:only-of-type {\n",
       "        vertical-align: middle;\n",
       "    }\n",
       "\n",
       "    .dataframe tbody tr th {\n",
       "        vertical-align: top;\n",
       "    }\n",
       "\n",
       "    .dataframe thead th {\n",
       "        text-align: right;\n",
       "    }\n",
       "</style>\n",
       "<table border=\"1\" class=\"dataframe\">\n",
       "  <thead>\n",
       "    <tr style=\"text-align: right;\">\n",
       "      <th></th>\n",
       "      <th>Unnamed: 0</th>\n",
       "      <th>origin</th>\n",
       "      <th>destination</th>\n",
       "      <th>distance</th>\n",
       "      <th>dest_WA</th>\n",
       "    </tr>\n",
       "  </thead>\n",
       "  <tbody>\n",
       "    <tr>\n",
       "      <th>0</th>\n",
       "      <td>1</td>\n",
       "      <td>53011040102</td>\n",
       "      <td>6015000101</td>\n",
       "      <td>296.841093</td>\n",
       "      <td>0</td>\n",
       "    </tr>\n",
       "    <tr>\n",
       "      <th>1</th>\n",
       "      <td>2</td>\n",
       "      <td>53011040201</td>\n",
       "      <td>6015000101</td>\n",
       "      <td>296.357495</td>\n",
       "      <td>0</td>\n",
       "    </tr>\n",
       "    <tr>\n",
       "      <th>2</th>\n",
       "      <td>3</td>\n",
       "      <td>53011040202</td>\n",
       "      <td>6015000101</td>\n",
       "      <td>298.009889</td>\n",
       "      <td>0</td>\n",
       "    </tr>\n",
       "    <tr>\n",
       "      <th>3</th>\n",
       "      <td>4</td>\n",
       "      <td>53011040203</td>\n",
       "      <td>6015000101</td>\n",
       "      <td>293.993493</td>\n",
       "      <td>0</td>\n",
       "    </tr>\n",
       "    <tr>\n",
       "      <th>4</th>\n",
       "      <td>5</td>\n",
       "      <td>53011040301</td>\n",
       "      <td>6015000101</td>\n",
       "      <td>292.287234</td>\n",
       "      <td>0</td>\n",
       "    </tr>\n",
       "  </tbody>\n",
       "</table>\n",
       "</div>"
      ],
      "text/plain": [
       "   Unnamed: 0       origin  destination    distance  dest_WA\n",
       "0           1  53011040102   6015000101  296.841093        0\n",
       "1           2  53011040201   6015000101  296.357495        0\n",
       "2           3  53011040202   6015000101  298.009889        0\n",
       "3           4  53011040203   6015000101  293.993493        0\n",
       "4           5  53011040301   6015000101  292.287234        0"
      ]
     },
     "execution_count": 9,
     "metadata": {},
     "output_type": "execute_result"
    }
   ],
   "source": [
    "df.head()"
   ]
  },
  {
   "cell_type": "code",
   "execution_count": 10,
   "id": "0d8715fa",
   "metadata": {},
   "outputs": [],
   "source": [
    "# Filter out WA destinations\n",
    "df_out=df[df['dest_WA']==0]"
   ]
  },
  {
   "cell_type": "code",
   "execution_count": 11,
   "id": "ae8ee3c1",
   "metadata": {},
   "outputs": [],
   "source": [
    "# Calculate the minimum distance for every origin\n",
    "# Output: origin tract - minimum distance to out of state tract - tract\n",
    "min_dist_out = df.loc[df_out.groupby('origin')['distance'].idxmin()]\n",
    "\n",
    "#print(min_dist_out)"
   ]
  },
  {
   "cell_type": "code",
   "execution_count": 12,
   "id": "a85eab00",
   "metadata": {},
   "outputs": [
    {
     "data": {
      "text/html": [
       "<div>\n",
       "<style scoped>\n",
       "    .dataframe tbody tr th:only-of-type {\n",
       "        vertical-align: middle;\n",
       "    }\n",
       "\n",
       "    .dataframe tbody tr th {\n",
       "        vertical-align: top;\n",
       "    }\n",
       "\n",
       "    .dataframe thead th {\n",
       "        text-align: right;\n",
       "    }\n",
       "</style>\n",
       "<table border=\"1\" class=\"dataframe\">\n",
       "  <thead>\n",
       "    <tr style=\"text-align: right;\">\n",
       "      <th></th>\n",
       "      <th>Unnamed: 0</th>\n",
       "      <th>origin</th>\n",
       "      <th>destination</th>\n",
       "      <th>distance</th>\n",
       "      <th>dest_WA</th>\n",
       "    </tr>\n",
       "  </thead>\n",
       "  <tbody>\n",
       "    <tr>\n",
       "      <th>78804</th>\n",
       "      <td>78805</td>\n",
       "      <td>53001950100</td>\n",
       "      <td>16057005100</td>\n",
       "      <td>70.205197</td>\n",
       "      <td>0</td>\n",
       "    </tr>\n",
       "    <tr>\n",
       "      <th>918311</th>\n",
       "      <td>918312</td>\n",
       "      <td>53001950200</td>\n",
       "      <td>41059950200</td>\n",
       "      <td>69.166795</td>\n",
       "      <td>0</td>\n",
       "    </tr>\n",
       "    <tr>\n",
       "      <th>927013</th>\n",
       "      <td>927014</td>\n",
       "      <td>53001950300</td>\n",
       "      <td>41059950800</td>\n",
       "      <td>64.470950</td>\n",
       "      <td>0</td>\n",
       "    </tr>\n",
       "    <tr>\n",
       "      <th>927014</th>\n",
       "      <td>927015</td>\n",
       "      <td>53001950400</td>\n",
       "      <td>41059950800</td>\n",
       "      <td>64.632924</td>\n",
       "      <td>0</td>\n",
       "    </tr>\n",
       "    <tr>\n",
       "      <th>927015</th>\n",
       "      <td>927016</td>\n",
       "      <td>53001950500</td>\n",
       "      <td>41059950800</td>\n",
       "      <td>63.139458</td>\n",
       "      <td>0</td>\n",
       "    </tr>\n",
       "  </tbody>\n",
       "</table>\n",
       "</div>"
      ],
      "text/plain": [
       "        Unnamed: 0       origin  destination   distance  dest_WA\n",
       "78804        78805  53001950100  16057005100  70.205197        0\n",
       "918311      918312  53001950200  41059950200  69.166795        0\n",
       "927013      927014  53001950300  41059950800  64.470950        0\n",
       "927014      927015  53001950400  41059950800  64.632924        0\n",
       "927015      927016  53001950500  41059950800  63.139458        0"
      ]
     },
     "execution_count": 12,
     "metadata": {},
     "output_type": "execute_result"
    }
   ],
   "source": [
    "min_dist_out.head()"
   ]
  },
  {
   "cell_type": "code",
   "execution_count": 13,
   "id": "a59c8d4a",
   "metadata": {},
   "outputs": [
    {
     "name": "stdout",
     "output_type": "stream",
     "text": [
      "Row exists\n"
     ]
    }
   ],
   "source": [
    "val1 = 53001950100\n",
    "row_exists = (min_dist_out['origin'] == val1)\n",
    "if row_exists.any():\n",
    "    print(\"Row exists\")\n",
    "else:\n",
    "    print(\"Row does not exist\")"
   ]
  },
  {
   "cell_type": "code",
   "execution_count": 14,
   "id": "278b9321",
   "metadata": {},
   "outputs": [],
   "source": [
    "min_dist_out = min_dist_out.reset_index()\n",
    "final_df = min_dist_out[['origin','destination','distance']].copy()"
   ]
  },
  {
   "cell_type": "code",
   "execution_count": 15,
   "id": "13b6b8d3",
   "metadata": {
    "scrolled": true
   },
   "outputs": [
    {
     "data": {
      "text/html": [
       "<div>\n",
       "<style scoped>\n",
       "    .dataframe tbody tr th:only-of-type {\n",
       "        vertical-align: middle;\n",
       "    }\n",
       "\n",
       "    .dataframe tbody tr th {\n",
       "        vertical-align: top;\n",
       "    }\n",
       "\n",
       "    .dataframe thead th {\n",
       "        text-align: right;\n",
       "    }\n",
       "</style>\n",
       "<table border=\"1\" class=\"dataframe\">\n",
       "  <thead>\n",
       "    <tr style=\"text-align: right;\">\n",
       "      <th></th>\n",
       "      <th>origin</th>\n",
       "      <th>destination</th>\n",
       "      <th>distance</th>\n",
       "    </tr>\n",
       "  </thead>\n",
       "  <tbody>\n",
       "    <tr>\n",
       "      <th>0</th>\n",
       "      <td>53001950100</td>\n",
       "      <td>16057005100</td>\n",
       "      <td>70.205197</td>\n",
       "    </tr>\n",
       "    <tr>\n",
       "      <th>1</th>\n",
       "      <td>53001950200</td>\n",
       "      <td>41059950200</td>\n",
       "      <td>69.166795</td>\n",
       "    </tr>\n",
       "    <tr>\n",
       "      <th>2</th>\n",
       "      <td>53001950300</td>\n",
       "      <td>41059950800</td>\n",
       "      <td>64.470950</td>\n",
       "    </tr>\n",
       "    <tr>\n",
       "      <th>3</th>\n",
       "      <td>53001950400</td>\n",
       "      <td>41059950800</td>\n",
       "      <td>64.632924</td>\n",
       "    </tr>\n",
       "    <tr>\n",
       "      <th>4</th>\n",
       "      <td>53001950500</td>\n",
       "      <td>41059950800</td>\n",
       "      <td>63.139458</td>\n",
       "    </tr>\n",
       "  </tbody>\n",
       "</table>\n",
       "</div>"
      ],
      "text/plain": [
       "        origin  destination   distance\n",
       "0  53001950100  16057005100  70.205197\n",
       "1  53001950200  41059950200  69.166795\n",
       "2  53001950300  41059950800  64.470950\n",
       "3  53001950400  41059950800  64.632924\n",
       "4  53001950500  41059950800  63.139458"
      ]
     },
     "execution_count": 15,
     "metadata": {},
     "output_type": "execute_result"
    }
   ],
   "source": [
    "final_df.head()"
   ]
  },
  {
   "cell_type": "code",
   "execution_count": 16,
   "id": "54c5f72d",
   "metadata": {},
   "outputs": [
    {
     "data": {
      "text/plain": [
       "1454"
      ]
     },
     "execution_count": 16,
     "metadata": {},
     "output_type": "execute_result"
    }
   ],
   "source": [
    "len(final_df)"
   ]
  },
  {
   "cell_type": "code",
   "execution_count": 17,
   "id": "1e9bbee3",
   "metadata": {},
   "outputs": [],
   "source": [
    "# Flag: California has 1,458 tracts"
   ]
  },
  {
   "cell_type": "code",
   "execution_count": 18,
   "id": "9c71fd51",
   "metadata": {},
   "outputs": [],
   "source": [
    "final_df.to_csv('tract_to_border_distance_wa.csv')"
   ]
  },
  {
   "cell_type": "markdown",
   "id": "4c4cc683",
   "metadata": {},
   "source": [
    "## 2 - Testing the output"
   ]
  },
  {
   "cell_type": "markdown",
   "id": "9b0353d1",
   "metadata": {},
   "source": [
    "Where are the destinations?"
   ]
  },
  {
   "cell_type": "code",
   "execution_count": 19,
   "id": "5ee3a7c4",
   "metadata": {},
   "outputs": [],
   "source": [
    "final_df['First2'] = final_df['destination'].astype(str).str[:2]"
   ]
  },
  {
   "cell_type": "code",
   "execution_count": 20,
   "id": "9b57b3cd",
   "metadata": {},
   "outputs": [
    {
     "data": {
      "text/plain": [
       "First2\n",
       "41    1295\n",
       "16     159\n",
       "Name: count, dtype: int64"
      ]
     },
     "execution_count": 20,
     "metadata": {},
     "output_type": "execute_result"
    }
   ],
   "source": [
    "final_df['First2'].value_counts()"
   ]
  },
  {
   "cell_type": "code",
   "execution_count": 21,
   "id": "6ed6e943",
   "metadata": {},
   "outputs": [],
   "source": [
    "# 32 is Nevada, # 16 is Idaho"
   ]
  },
  {
   "cell_type": "markdown",
   "id": "0c732aef",
   "metadata": {},
   "source": [
    "Most common destinations"
   ]
  },
  {
   "cell_type": "code",
   "execution_count": 23,
   "id": "1d754bb4",
   "metadata": {},
   "outputs": [],
   "source": [
    "dest_count_df = final_df['destination'].value_counts().reset_index()\n",
    "dest_count_df.columns = ['GEOID', 'Count']"
   ]
  },
  {
   "cell_type": "code",
   "execution_count": 24,
   "id": "2cda1a9a",
   "metadata": {},
   "outputs": [
    {
     "data": {
      "text/html": [
       "<div>\n",
       "<style scoped>\n",
       "    .dataframe tbody tr th:only-of-type {\n",
       "        vertical-align: middle;\n",
       "    }\n",
       "\n",
       "    .dataframe tbody tr th {\n",
       "        vertical-align: top;\n",
       "    }\n",
       "\n",
       "    .dataframe thead th {\n",
       "        text-align: right;\n",
       "    }\n",
       "</style>\n",
       "<table border=\"1\" class=\"dataframe\">\n",
       "  <thead>\n",
       "    <tr style=\"text-align: right;\">\n",
       "      <th></th>\n",
       "      <th>GEOID</th>\n",
       "      <th>Count</th>\n",
       "    </tr>\n",
       "  </thead>\n",
       "  <tbody>\n",
       "    <tr>\n",
       "      <th>0</th>\n",
       "      <td>41009970300</td>\n",
       "      <td>951</td>\n",
       "    </tr>\n",
       "    <tr>\n",
       "      <th>1</th>\n",
       "      <td>16055000401</td>\n",
       "      <td>93</td>\n",
       "    </tr>\n",
       "    <tr>\n",
       "      <th>2</th>\n",
       "      <td>41007950300</td>\n",
       "      <td>56</td>\n",
       "    </tr>\n",
       "    <tr>\n",
       "      <th>3</th>\n",
       "      <td>41059950800</td>\n",
       "      <td>47</td>\n",
       "    </tr>\n",
       "    <tr>\n",
       "      <th>4</th>\n",
       "      <td>41049970100</td>\n",
       "      <td>45</td>\n",
       "    </tr>\n",
       "  </tbody>\n",
       "</table>\n",
       "</div>"
      ],
      "text/plain": [
       "         GEOID  Count\n",
       "0  41009970300    951\n",
       "1  16055000401     93\n",
       "2  41007950300     56\n",
       "3  41059950800     47\n",
       "4  41049970100     45"
      ]
     },
     "execution_count": 24,
     "metadata": {},
     "output_type": "execute_result"
    }
   ],
   "source": [
    "dest_count_df['GEOID'] = dest_count_df['GEOID'].astype(str)\n",
    "dest_count_df.head()"
   ]
  },
  {
   "cell_type": "code",
   "execution_count": 25,
   "id": "f9f10d22",
   "metadata": {},
   "outputs": [],
   "source": [
    "#41009970300: Columbia County, OR\n",
    "#16055000401: Kootenai County, ID"
   ]
  }
 ],
 "metadata": {
  "kernelspec": {
   "display_name": "Python 3 (ipykernel)",
   "language": "python",
   "name": "python3"
  },
  "language_info": {
   "codemirror_mode": {
    "name": "ipython",
    "version": 3
   },
   "file_extension": ".py",
   "mimetype": "text/x-python",
   "name": "python",
   "nbconvert_exporter": "python",
   "pygments_lexer": "ipython3",
   "version": "3.10.12"
  }
 },
 "nbformat": 4,
 "nbformat_minor": 5
}
