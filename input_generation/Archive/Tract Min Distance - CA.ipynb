{
 "cells": [
  {
   "cell_type": "code",
   "execution_count": 28,
   "id": "c41499fb",
   "metadata": {},
   "outputs": [],
   "source": [
    "import geopy.distance\n",
    "import pandas as pd\n",
    "import numpy as np\n",
    "import os\n",
    "import csv\n",
    "import shapefile\n",
    "import matplotlib.pyplot as plt"
   ]
  },
  {
   "cell_type": "markdown",
   "id": "14a6323b",
   "metadata": {},
   "source": [
    "## 1 - Creating the new dataframe"
   ]
  },
  {
   "cell_type": "code",
   "execution_count": 29,
   "id": "6d01f24f",
   "metadata": {},
   "outputs": [],
   "source": [
    "csv_file_path = 'Downloads/distance_matrix_by_tracts_CA.csv'\n",
    "df = pd.read_csv(csv_file_path)"
   ]
  },
  {
   "cell_type": "code",
   "execution_count": 30,
   "id": "7602037b",
   "metadata": {},
   "outputs": [
    {
     "data": {
      "text/html": [
       "<div>\n",
       "<style scoped>\n",
       "    .dataframe tbody tr th:only-of-type {\n",
       "        vertical-align: middle;\n",
       "    }\n",
       "\n",
       "    .dataframe tbody tr th {\n",
       "        vertical-align: top;\n",
       "    }\n",
       "\n",
       "    .dataframe thead th {\n",
       "        text-align: right;\n",
       "    }\n",
       "</style>\n",
       "<table border=\"1\" class=\"dataframe\">\n",
       "  <thead>\n",
       "    <tr style=\"text-align: right;\">\n",
       "      <th></th>\n",
       "      <th>Unnamed: 0</th>\n",
       "      <th>origin</th>\n",
       "      <th>destination</th>\n",
       "      <th>distance</th>\n",
       "    </tr>\n",
       "  </thead>\n",
       "  <tbody>\n",
       "    <tr>\n",
       "      <th>0</th>\n",
       "      <td>1</td>\n",
       "      <td>6071010700</td>\n",
       "      <td>4001944201</td>\n",
       "      <td>295.615635</td>\n",
       "    </tr>\n",
       "    <tr>\n",
       "      <th>1</th>\n",
       "      <td>2</td>\n",
       "      <td>6071940100</td>\n",
       "      <td>4001944201</td>\n",
       "      <td>294.930777</td>\n",
       "    </tr>\n",
       "    <tr>\n",
       "      <th>2</th>\n",
       "      <td>3</td>\n",
       "      <td>6071010700</td>\n",
       "      <td>4001944300</td>\n",
       "      <td>295.811483</td>\n",
       "    </tr>\n",
       "    <tr>\n",
       "      <th>3</th>\n",
       "      <td>4</td>\n",
       "      <td>6071940100</td>\n",
       "      <td>4001944300</td>\n",
       "      <td>294.872095</td>\n",
       "    </tr>\n",
       "    <tr>\n",
       "      <th>4</th>\n",
       "      <td>5</td>\n",
       "      <td>6071940100</td>\n",
       "      <td>4001944901</td>\n",
       "      <td>296.485464</td>\n",
       "    </tr>\n",
       "  </tbody>\n",
       "</table>\n",
       "</div>"
      ],
      "text/plain": [
       "   Unnamed: 0      origin  destination    distance\n",
       "0           1  6071010700   4001944201  295.615635\n",
       "1           2  6071940100   4001944201  294.930777\n",
       "2           3  6071010700   4001944300  295.811483\n",
       "3           4  6071940100   4001944300  294.872095\n",
       "4           5  6071940100   4001944901  296.485464"
      ]
     },
     "execution_count": 30,
     "metadata": {},
     "output_type": "execute_result"
    }
   ],
   "source": [
    "df.head()"
   ]
  },
  {
   "cell_type": "code",
   "execution_count": 31,
   "id": "b753e31b",
   "metadata": {},
   "outputs": [
    {
     "data": {
      "text/plain": [
       "45414791"
      ]
     },
     "execution_count": 31,
     "metadata": {},
     "output_type": "execute_result"
    }
   ],
   "source": [
    "len(df)"
   ]
  },
  {
   "cell_type": "code",
   "execution_count": 32,
   "id": "109029be",
   "metadata": {},
   "outputs": [],
   "source": [
    "# First check - make sure there are no internal trips (i.e. tract in CA to tract in CA)\n",
    "# Using 6071010700 and 6071940100"
   ]
  },
  {
   "cell_type": "code",
   "execution_count": 33,
   "id": "2fb6812d",
   "metadata": {},
   "outputs": [],
   "source": [
    "val1 = 6071010700\n",
    "val2 = 6071940100\n",
    "row_exists = (df['origin'] == val1) & (df['destination'] == val2)"
   ]
  },
  {
   "cell_type": "code",
   "execution_count": 34,
   "id": "9aba57f3",
   "metadata": {},
   "outputs": [
    {
     "name": "stdout",
     "output_type": "stream",
     "text": [
      "Row exists\n"
     ]
    }
   ],
   "source": [
    "if row_exists.any():\n",
    "    print(\"Row exists\")\n",
    "else:\n",
    "    print(\"Row does not exist\")"
   ]
  },
  {
   "cell_type": "code",
   "execution_count": 35,
   "id": "ef11bf95",
   "metadata": {},
   "outputs": [],
   "source": [
    "# Need to flag destinations in California\n",
    "# State GEOID is 6. Hence numbers between 6000000000 and 6999999999 are in California\n",
    "df['dest_CA'] = np.where((df['destination'] >= 6000000000) & (df['destination'] <= 6999999999) , 1, 0)"
   ]
  },
  {
   "cell_type": "code",
   "execution_count": 36,
   "id": "38b6f2dd",
   "metadata": {},
   "outputs": [
    {
     "data": {
      "text/html": [
       "<div>\n",
       "<style scoped>\n",
       "    .dataframe tbody tr th:only-of-type {\n",
       "        vertical-align: middle;\n",
       "    }\n",
       "\n",
       "    .dataframe tbody tr th {\n",
       "        vertical-align: top;\n",
       "    }\n",
       "\n",
       "    .dataframe thead th {\n",
       "        text-align: right;\n",
       "    }\n",
       "</style>\n",
       "<table border=\"1\" class=\"dataframe\">\n",
       "  <thead>\n",
       "    <tr style=\"text-align: right;\">\n",
       "      <th></th>\n",
       "      <th>Unnamed: 0</th>\n",
       "      <th>origin</th>\n",
       "      <th>destination</th>\n",
       "      <th>distance</th>\n",
       "      <th>dest_CA</th>\n",
       "    </tr>\n",
       "  </thead>\n",
       "  <tbody>\n",
       "    <tr>\n",
       "      <th>0</th>\n",
       "      <td>1</td>\n",
       "      <td>6071010700</td>\n",
       "      <td>4001944201</td>\n",
       "      <td>295.615635</td>\n",
       "      <td>0</td>\n",
       "    </tr>\n",
       "    <tr>\n",
       "      <th>1</th>\n",
       "      <td>2</td>\n",
       "      <td>6071940100</td>\n",
       "      <td>4001944201</td>\n",
       "      <td>294.930777</td>\n",
       "      <td>0</td>\n",
       "    </tr>\n",
       "    <tr>\n",
       "      <th>2</th>\n",
       "      <td>3</td>\n",
       "      <td>6071010700</td>\n",
       "      <td>4001944300</td>\n",
       "      <td>295.811483</td>\n",
       "      <td>0</td>\n",
       "    </tr>\n",
       "    <tr>\n",
       "      <th>3</th>\n",
       "      <td>4</td>\n",
       "      <td>6071940100</td>\n",
       "      <td>4001944300</td>\n",
       "      <td>294.872095</td>\n",
       "      <td>0</td>\n",
       "    </tr>\n",
       "    <tr>\n",
       "      <th>4</th>\n",
       "      <td>5</td>\n",
       "      <td>6071940100</td>\n",
       "      <td>4001944901</td>\n",
       "      <td>296.485464</td>\n",
       "      <td>0</td>\n",
       "    </tr>\n",
       "  </tbody>\n",
       "</table>\n",
       "</div>"
      ],
      "text/plain": [
       "   Unnamed: 0      origin  destination    distance  dest_CA\n",
       "0           1  6071010700   4001944201  295.615635        0\n",
       "1           2  6071940100   4001944201  294.930777        0\n",
       "2           3  6071010700   4001944300  295.811483        0\n",
       "3           4  6071940100   4001944300  294.872095        0\n",
       "4           5  6071940100   4001944901  296.485464        0"
      ]
     },
     "execution_count": 36,
     "metadata": {},
     "output_type": "execute_result"
    }
   ],
   "source": [
    "df.head()"
   ]
  },
  {
   "cell_type": "code",
   "execution_count": 37,
   "id": "0d8715fa",
   "metadata": {},
   "outputs": [],
   "source": [
    "# Filter out CA destinations\n",
    "df_out=df[df['dest_CA']==0]"
   ]
  },
  {
   "cell_type": "code",
   "execution_count": 38,
   "id": "ae8ee3c1",
   "metadata": {},
   "outputs": [],
   "source": [
    "# Calculate the minimum distance for every origin\n",
    "# Output: origin tract - minimum distance to out of state tract - tract\n",
    "min_dist_out = df.loc[df_out.groupby('origin')['distance'].idxmin()]\n",
    "\n",
    "#print(min_dist_out)"
   ]
  },
  {
   "cell_type": "code",
   "execution_count": 39,
   "id": "a85eab00",
   "metadata": {},
   "outputs": [
    {
     "data": {
      "text/html": [
       "<div>\n",
       "<style scoped>\n",
       "    .dataframe tbody tr th:only-of-type {\n",
       "        vertical-align: middle;\n",
       "    }\n",
       "\n",
       "    .dataframe tbody tr th {\n",
       "        vertical-align: top;\n",
       "    }\n",
       "\n",
       "    .dataframe thead th {\n",
       "        text-align: right;\n",
       "    }\n",
       "</style>\n",
       "<table border=\"1\" class=\"dataframe\">\n",
       "  <thead>\n",
       "    <tr style=\"text-align: right;\">\n",
       "      <th></th>\n",
       "      <th>Unnamed: 0</th>\n",
       "      <th>origin</th>\n",
       "      <th>destination</th>\n",
       "      <th>distance</th>\n",
       "      <th>dest_CA</th>\n",
       "    </tr>\n",
       "  </thead>\n",
       "  <tbody>\n",
       "    <tr>\n",
       "      <th>44726069</th>\n",
       "      <td>44726070</td>\n",
       "      <td>6001400100</td>\n",
       "      <td>32005990000</td>\n",
       "      <td>146.885212</td>\n",
       "      <td>0</td>\n",
       "    </tr>\n",
       "    <tr>\n",
       "      <th>44726070</th>\n",
       "      <td>44726071</td>\n",
       "      <td>6001400200</td>\n",
       "      <td>32005990000</td>\n",
       "      <td>148.442731</td>\n",
       "      <td>0</td>\n",
       "    </tr>\n",
       "    <tr>\n",
       "      <th>44726071</th>\n",
       "      <td>44726072</td>\n",
       "      <td>6001400300</td>\n",
       "      <td>32005990000</td>\n",
       "      <td>148.951108</td>\n",
       "      <td>0</td>\n",
       "    </tr>\n",
       "    <tr>\n",
       "      <th>44726072</th>\n",
       "      <td>44726073</td>\n",
       "      <td>6001400400</td>\n",
       "      <td>32005990000</td>\n",
       "      <td>148.783168</td>\n",
       "      <td>0</td>\n",
       "    </tr>\n",
       "    <tr>\n",
       "      <th>44726073</th>\n",
       "      <td>44726074</td>\n",
       "      <td>6001400500</td>\n",
       "      <td>32005990000</td>\n",
       "      <td>149.101951</td>\n",
       "      <td>0</td>\n",
       "    </tr>\n",
       "  </tbody>\n",
       "</table>\n",
       "</div>"
      ],
      "text/plain": [
       "          Unnamed: 0      origin  destination    distance  dest_CA\n",
       "44726069    44726070  6001400100  32005990000  146.885212        0\n",
       "44726070    44726071  6001400200  32005990000  148.442731        0\n",
       "44726071    44726072  6001400300  32005990000  148.951108        0\n",
       "44726072    44726073  6001400400  32005990000  148.783168        0\n",
       "44726073    44726074  6001400500  32005990000  149.101951        0"
      ]
     },
     "execution_count": 39,
     "metadata": {},
     "output_type": "execute_result"
    }
   ],
   "source": [
    "min_dist_out.head()"
   ]
  },
  {
   "cell_type": "code",
   "execution_count": 40,
   "id": "a59c8d4a",
   "metadata": {},
   "outputs": [
    {
     "name": "stdout",
     "output_type": "stream",
     "text": [
      "Row exists\n"
     ]
    }
   ],
   "source": [
    "val1 = 6071010700\n",
    "row_exists = (min_dist_out['origin'] == val1)\n",
    "if row_exists.any():\n",
    "    print(\"Row exists\")\n",
    "else:\n",
    "    print(\"Row does not exist\")"
   ]
  },
  {
   "cell_type": "code",
   "execution_count": 41,
   "id": "278b9321",
   "metadata": {},
   "outputs": [],
   "source": [
    "min_dist_out = min_dist_out.reset_index()\n",
    "final_df = min_dist_out[['origin','destination','distance']].copy()"
   ]
  },
  {
   "cell_type": "code",
   "execution_count": 42,
   "id": "13b6b8d3",
   "metadata": {
    "scrolled": true
   },
   "outputs": [
    {
     "data": {
      "text/html": [
       "<div>\n",
       "<style scoped>\n",
       "    .dataframe tbody tr th:only-of-type {\n",
       "        vertical-align: middle;\n",
       "    }\n",
       "\n",
       "    .dataframe tbody tr th {\n",
       "        vertical-align: top;\n",
       "    }\n",
       "\n",
       "    .dataframe thead th {\n",
       "        text-align: right;\n",
       "    }\n",
       "</style>\n",
       "<table border=\"1\" class=\"dataframe\">\n",
       "  <thead>\n",
       "    <tr style=\"text-align: right;\">\n",
       "      <th></th>\n",
       "      <th>origin</th>\n",
       "      <th>destination</th>\n",
       "      <th>distance</th>\n",
       "    </tr>\n",
       "  </thead>\n",
       "  <tbody>\n",
       "    <tr>\n",
       "      <th>0</th>\n",
       "      <td>6001400100</td>\n",
       "      <td>32005990000</td>\n",
       "      <td>146.885212</td>\n",
       "    </tr>\n",
       "    <tr>\n",
       "      <th>1</th>\n",
       "      <td>6001400200</td>\n",
       "      <td>32005990000</td>\n",
       "      <td>148.442731</td>\n",
       "    </tr>\n",
       "    <tr>\n",
       "      <th>2</th>\n",
       "      <td>6001400300</td>\n",
       "      <td>32005990000</td>\n",
       "      <td>148.951108</td>\n",
       "    </tr>\n",
       "    <tr>\n",
       "      <th>3</th>\n",
       "      <td>6001400400</td>\n",
       "      <td>32005990000</td>\n",
       "      <td>148.783168</td>\n",
       "    </tr>\n",
       "    <tr>\n",
       "      <th>4</th>\n",
       "      <td>6001400500</td>\n",
       "      <td>32005990000</td>\n",
       "      <td>149.101951</td>\n",
       "    </tr>\n",
       "  </tbody>\n",
       "</table>\n",
       "</div>"
      ],
      "text/plain": [
       "       origin  destination    distance\n",
       "0  6001400100  32005990000  146.885212\n",
       "1  6001400200  32005990000  148.442731\n",
       "2  6001400300  32005990000  148.951108\n",
       "3  6001400400  32005990000  148.783168\n",
       "4  6001400500  32005990000  149.101951"
      ]
     },
     "execution_count": 42,
     "metadata": {},
     "output_type": "execute_result"
    }
   ],
   "source": [
    "final_df.head()"
   ]
  },
  {
   "cell_type": "code",
   "execution_count": 43,
   "id": "54c5f72d",
   "metadata": {},
   "outputs": [
    {
     "data": {
      "text/plain": [
       "8038"
      ]
     },
     "execution_count": 43,
     "metadata": {},
     "output_type": "execute_result"
    }
   ],
   "source": [
    "len(final_df)"
   ]
  },
  {
   "cell_type": "code",
   "execution_count": 44,
   "id": "1e9bbee3",
   "metadata": {},
   "outputs": [],
   "source": [
    "# Flag: California has 8,057 tracts"
   ]
  },
  {
   "cell_type": "code",
   "execution_count": 45,
   "id": "9c71fd51",
   "metadata": {},
   "outputs": [],
   "source": [
    "final_df.to_csv('tract_to_border_distance.csv')"
   ]
  },
  {
   "cell_type": "markdown",
   "id": "4c4cc683",
   "metadata": {},
   "source": [
    "## 2 - Testing the output"
   ]
  },
  {
   "cell_type": "markdown",
   "id": "9b0353d1",
   "metadata": {},
   "source": [
    "Where are the destinations?"
   ]
  },
  {
   "cell_type": "code",
   "execution_count": 18,
   "id": "5ee3a7c4",
   "metadata": {},
   "outputs": [],
   "source": [
    "final_df['First2'] = final_df['destination'].astype(str).str[:2]"
   ]
  },
  {
   "cell_type": "code",
   "execution_count": 19,
   "id": "9b57b3cd",
   "metadata": {},
   "outputs": [
    {
     "data": {
      "text/plain": [
       "32    6462\n",
       "40    1461\n",
       "41     115\n",
       "Name: First2, dtype: int64"
      ]
     },
     "execution_count": 19,
     "metadata": {},
     "output_type": "execute_result"
    }
   ],
   "source": [
    "final_df['First2'].value_counts()"
   ]
  },
  {
   "cell_type": "code",
   "execution_count": 20,
   "id": "6ed6e943",
   "metadata": {},
   "outputs": [],
   "source": [
    "# 32 is Nevada, # 41 is Oregon, #4 is Arizona"
   ]
  },
  {
   "cell_type": "markdown",
   "id": "f9dfdcc1",
   "metadata": {},
   "source": [
    "OD Pair testing"
   ]
  },
  {
   "cell_type": "code",
   "execution_count": 21,
   "id": "77d8373c",
   "metadata": {},
   "outputs": [],
   "source": [
    "# 6001400100 is Alameda County, 32005990000 is Douglas, NV "
   ]
  },
  {
   "cell_type": "markdown",
   "id": "0c732aef",
   "metadata": {},
   "source": [
    "Aggregate plot of destinations"
   ]
  },
  {
   "cell_type": "code",
   "execution_count": 22,
   "id": "1d754bb4",
   "metadata": {},
   "outputs": [],
   "source": [
    "dest_count_df = final_df['destination'].value_counts().reset_index()\n",
    "dest_count_df.columns = ['GEOID', 'Count']"
   ]
  },
  {
   "cell_type": "code",
   "execution_count": 23,
   "id": "2cda1a9a",
   "metadata": {},
   "outputs": [
    {
     "data": {
      "text/html": [
       "<div>\n",
       "<style scoped>\n",
       "    .dataframe tbody tr th:only-of-type {\n",
       "        vertical-align: middle;\n",
       "    }\n",
       "\n",
       "    .dataframe tbody tr th {\n",
       "        vertical-align: top;\n",
       "    }\n",
       "\n",
       "    .dataframe thead th {\n",
       "        text-align: right;\n",
       "    }\n",
       "</style>\n",
       "<table border=\"1\" class=\"dataframe\">\n",
       "  <thead>\n",
       "    <tr style=\"text-align: right;\">\n",
       "      <th></th>\n",
       "      <th>GEOID</th>\n",
       "      <th>Count</th>\n",
       "    </tr>\n",
       "  </thead>\n",
       "  <tbody>\n",
       "    <tr>\n",
       "      <th>0</th>\n",
       "      <td>32023960405</td>\n",
       "      <td>2903</td>\n",
       "    </tr>\n",
       "    <tr>\n",
       "      <th>1</th>\n",
       "      <td>32005001800</td>\n",
       "      <td>1206</td>\n",
       "    </tr>\n",
       "    <tr>\n",
       "      <th>2</th>\n",
       "      <td>32005990000</td>\n",
       "      <td>1191</td>\n",
       "    </tr>\n",
       "    <tr>\n",
       "      <th>3</th>\n",
       "      <td>4012020602</td>\n",
       "      <td>789</td>\n",
       "    </tr>\n",
       "    <tr>\n",
       "      <th>4</th>\n",
       "      <td>4027011403</td>\n",
       "      <td>423</td>\n",
       "    </tr>\n",
       "  </tbody>\n",
       "</table>\n",
       "</div>"
      ],
      "text/plain": [
       "         GEOID  Count\n",
       "0  32023960405   2903\n",
       "1  32005001800   1206\n",
       "2  32005990000   1191\n",
       "3   4012020602    789\n",
       "4   4027011403    423"
      ]
     },
     "execution_count": 23,
     "metadata": {},
     "output_type": "execute_result"
    }
   ],
   "source": [
    "dest_count_df['GEOID'] = dest_count_df['GEOID'].astype(str)\n",
    "dest_count_df.head()"
   ]
  },
  {
   "cell_type": "code",
   "execution_count": 24,
   "id": "f9f10d22",
   "metadata": {},
   "outputs": [],
   "source": [
    "#32023960405: Pahrump, NV\n",
    "#32005001800: Stateline, NV\n",
    "#32005990000: Glenbrook, NV\n",
    "#4012020602: Cibola, AZ"
   ]
  },
  {
   "cell_type": "code",
   "execution_count": 25,
   "id": "384ff13a",
   "metadata": {},
   "outputs": [],
   "source": [
    "# Plot the top occurring census tracts\n",
    "# USE FOLIUM\n",
    "import folium"
   ]
  }
 ],
 "metadata": {
  "kernelspec": {
   "display_name": "Python 3 (ipykernel)",
   "language": "python",
   "name": "python3"
  },
  "language_info": {
   "codemirror_mode": {
    "name": "ipython",
    "version": 3
   },
   "file_extension": ".py",
   "mimetype": "text/x-python",
   "name": "python",
   "nbconvert_exporter": "python",
   "pygments_lexer": "ipython3",
   "version": "3.11.5"
  }
 },
 "nbformat": 4,
 "nbformat_minor": 5
}
