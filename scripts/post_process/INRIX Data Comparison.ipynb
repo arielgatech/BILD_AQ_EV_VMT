{
 "cells": [
  {
   "cell_type": "markdown",
   "id": "1b87ee37",
   "metadata": {},
   "source": [
    "This notebook compares the 'old' and 'new' INRIX datasets.\n",
    "Source: https://drive.google.com/drive/folders/1cd4Gb1KGjDFGpRhn7XLSixssxgtjWELA"
   ]
  },
  {
   "cell_type": "code",
   "execution_count": 1,
   "id": "a24e083e",
   "metadata": {},
   "outputs": [],
   "source": [
    "import pandas as pd\n",
    "import os\n",
    "from pandas import read_csv\n",
    "import numpy as np\n",
    "import seaborn as sns\n",
    "import matplotlib.pyplot as plt"
   ]
  },
  {
   "cell_type": "code",
   "execution_count": 2,
   "id": "e84006bf",
   "metadata": {},
   "outputs": [],
   "source": [
    "### Import raw files"
   ]
  },
  {
   "cell_type": "code",
   "execution_count": 3,
   "id": "fffc866c",
   "metadata": {},
   "outputs": [],
   "source": [
    "old = pd.read_csv('travel_time_skim-001.csv')"
   ]
  },
  {
   "cell_type": "code",
   "execution_count": 4,
   "id": "8eec3de1",
   "metadata": {},
   "outputs": [],
   "source": [
    "new = pd.read_csv('travel_time_skim_V2-001.csv')"
   ]
  },
  {
   "cell_type": "code",
   "execution_count": 5,
   "id": "47d1fdc3",
   "metadata": {},
   "outputs": [],
   "source": [
    "# Note: there is an existing notebook which Xiaodan uses to process the INRIX data\n",
    "# This notebook compares the raw files in the GEMS folder"
   ]
  },
  {
   "cell_type": "code",
   "execution_count": 6,
   "id": "ef0e47e5",
   "metadata": {},
   "outputs": [],
   "source": [
    "### Preliminary look at files"
   ]
  },
  {
   "cell_type": "code",
   "execution_count": 7,
   "id": "226a10b7",
   "metadata": {},
   "outputs": [
    {
     "data": {
      "text/html": [
       "<div>\n",
       "<style scoped>\n",
       "    .dataframe tbody tr th:only-of-type {\n",
       "        vertical-align: middle;\n",
       "    }\n",
       "\n",
       "    .dataframe tbody tr th {\n",
       "        vertical-align: top;\n",
       "    }\n",
       "\n",
       "    .dataframe thead th {\n",
       "        text-align: right;\n",
       "    }\n",
       "</style>\n",
       "<table border=\"1\" class=\"dataframe\">\n",
       "  <thead>\n",
       "    <tr style=\"text-align: right;\">\n",
       "      <th></th>\n",
       "      <th>Unnamed: 0</th>\n",
       "      <th>origin</th>\n",
       "      <th>destination</th>\n",
       "      <th>distance</th>\n",
       "      <th>distance_mile</th>\n",
       "      <th>travel_time_h</th>\n",
       "      <th>avg_speed</th>\n",
       "    </tr>\n",
       "  </thead>\n",
       "  <tbody>\n",
       "    <tr>\n",
       "      <th>0</th>\n",
       "      <td>0</td>\n",
       "      <td>6001430300</td>\n",
       "      <td>6001425103</td>\n",
       "      <td>14.041099</td>\n",
       "      <td>19.072999</td>\n",
       "      <td>0.581833</td>\n",
       "      <td>32.780854</td>\n",
       "    </tr>\n",
       "    <tr>\n",
       "      <th>1</th>\n",
       "      <td>1</td>\n",
       "      <td>6001431100</td>\n",
       "      <td>6001425103</td>\n",
       "      <td>16.177780</td>\n",
       "      <td>21.635947</td>\n",
       "      <td>0.635973</td>\n",
       "      <td>34.020232</td>\n",
       "    </tr>\n",
       "    <tr>\n",
       "      <th>2</th>\n",
       "      <td>2</td>\n",
       "      <td>6001435800</td>\n",
       "      <td>6001425103</td>\n",
       "      <td>14.281889</td>\n",
       "      <td>19.361825</td>\n",
       "      <td>0.590644</td>\n",
       "      <td>32.780854</td>\n",
       "    </tr>\n",
       "    <tr>\n",
       "      <th>3</th>\n",
       "      <td>3</td>\n",
       "      <td>6001437000</td>\n",
       "      <td>6001425103</td>\n",
       "      <td>16.971619</td>\n",
       "      <td>22.588157</td>\n",
       "      <td>0.651833</td>\n",
       "      <td>34.653305</td>\n",
       "    </tr>\n",
       "    <tr>\n",
       "      <th>4</th>\n",
       "      <td>4</td>\n",
       "      <td>6001437400</td>\n",
       "      <td>6001425103</td>\n",
       "      <td>17.675516</td>\n",
       "      <td>23.432481</td>\n",
       "      <td>0.664413</td>\n",
       "      <td>35.267935</td>\n",
       "    </tr>\n",
       "  </tbody>\n",
       "</table>\n",
       "</div>"
      ],
      "text/plain": [
       "   Unnamed: 0      origin  destination   distance  distance_mile  \\\n",
       "0           0  6001430300   6001425103  14.041099      19.072999   \n",
       "1           1  6001431100   6001425103  16.177780      21.635947   \n",
       "2           2  6001435800   6001425103  14.281889      19.361825   \n",
       "3           3  6001437000   6001425103  16.971619      22.588157   \n",
       "4           4  6001437400   6001425103  17.675516      23.432481   \n",
       "\n",
       "   travel_time_h  avg_speed  \n",
       "0       0.581833  32.780854  \n",
       "1       0.635973  34.020232  \n",
       "2       0.590644  32.780854  \n",
       "3       0.651833  34.653305  \n",
       "4       0.664413  35.267935  "
      ]
     },
     "execution_count": 7,
     "metadata": {},
     "output_type": "execute_result"
    }
   ],
   "source": [
    "old.head()"
   ]
  },
  {
   "cell_type": "code",
   "execution_count": 8,
   "id": "0d520498",
   "metadata": {},
   "outputs": [
    {
     "data": {
      "text/html": [
       "<div>\n",
       "<style scoped>\n",
       "    .dataframe tbody tr th:only-of-type {\n",
       "        vertical-align: middle;\n",
       "    }\n",
       "\n",
       "    .dataframe tbody tr th {\n",
       "        vertical-align: top;\n",
       "    }\n",
       "\n",
       "    .dataframe thead th {\n",
       "        text-align: right;\n",
       "    }\n",
       "</style>\n",
       "<table border=\"1\" class=\"dataframe\">\n",
       "  <thead>\n",
       "    <tr style=\"text-align: right;\">\n",
       "      <th></th>\n",
       "      <th>Unnamed: 0</th>\n",
       "      <th>origin</th>\n",
       "      <th>destination</th>\n",
       "      <th>distance</th>\n",
       "      <th>distance_mile</th>\n",
       "      <th>travel_time_h</th>\n",
       "      <th>avg_speed</th>\n",
       "    </tr>\n",
       "  </thead>\n",
       "  <tbody>\n",
       "    <tr>\n",
       "      <th>0</th>\n",
       "      <td>0</td>\n",
       "      <td>6001405800</td>\n",
       "      <td>6001400100</td>\n",
       "      <td>5.092027</td>\n",
       "      <td>8.431728</td>\n",
       "      <td>0.399796</td>\n",
       "      <td>21.090076</td>\n",
       "    </tr>\n",
       "    <tr>\n",
       "      <th>1</th>\n",
       "      <td>1</td>\n",
       "      <td>6001406500</td>\n",
       "      <td>6001400100</td>\n",
       "      <td>5.559215</td>\n",
       "      <td>8.992306</td>\n",
       "      <td>0.426376</td>\n",
       "      <td>21.090076</td>\n",
       "    </tr>\n",
       "    <tr>\n",
       "      <th>2</th>\n",
       "      <td>2</td>\n",
       "      <td>6001407101</td>\n",
       "      <td>6001400100</td>\n",
       "      <td>5.917569</td>\n",
       "      <td>9.422294</td>\n",
       "      <td>0.421318</td>\n",
       "      <td>22.363843</td>\n",
       "    </tr>\n",
       "    <tr>\n",
       "      <th>3</th>\n",
       "      <td>3</td>\n",
       "      <td>6001408400</td>\n",
       "      <td>6001400100</td>\n",
       "      <td>7.860745</td>\n",
       "      <td>11.753907</td>\n",
       "      <td>0.477062</td>\n",
       "      <td>24.638098</td>\n",
       "    </tr>\n",
       "    <tr>\n",
       "      <th>4</th>\n",
       "      <td>4</td>\n",
       "      <td>6001408500</td>\n",
       "      <td>6001400100</td>\n",
       "      <td>7.962388</td>\n",
       "      <td>11.875868</td>\n",
       "      <td>0.482012</td>\n",
       "      <td>24.638098</td>\n",
       "    </tr>\n",
       "  </tbody>\n",
       "</table>\n",
       "</div>"
      ],
      "text/plain": [
       "   Unnamed: 0      origin  destination  distance  distance_mile  \\\n",
       "0           0  6001405800   6001400100  5.092027       8.431728   \n",
       "1           1  6001406500   6001400100  5.559215       8.992306   \n",
       "2           2  6001407101   6001400100  5.917569       9.422294   \n",
       "3           3  6001408400   6001400100  7.860745      11.753907   \n",
       "4           4  6001408500   6001400100  7.962388      11.875868   \n",
       "\n",
       "   travel_time_h  avg_speed  \n",
       "0       0.399796  21.090076  \n",
       "1       0.426376  21.090076  \n",
       "2       0.421318  22.363843  \n",
       "3       0.477062  24.638098  \n",
       "4       0.482012  24.638098  "
      ]
     },
     "execution_count": 8,
     "metadata": {},
     "output_type": "execute_result"
    }
   ],
   "source": [
    "new.head()"
   ]
  },
  {
   "cell_type": "code",
   "execution_count": 9,
   "id": "28dadbc5",
   "metadata": {},
   "outputs": [
    {
     "name": "stdout",
     "output_type": "stream",
     "text": [
      "Old length: 24674818\n",
      "New length: 24628276\n"
     ]
    }
   ],
   "source": [
    "# Dimensions of datasets\n",
    "print(\"Old length:\", len(old))\n",
    "print(\"New length:\", len(new))"
   ]
  },
  {
   "cell_type": "code",
   "execution_count": 10,
   "id": "59304791",
   "metadata": {},
   "outputs": [
    {
     "name": "stdout",
     "output_type": "stream",
     "text": [
      "0.998113785479593\n"
     ]
    }
   ],
   "source": [
    "print(len(new)/len(old))"
   ]
  },
  {
   "cell_type": "code",
   "execution_count": 11,
   "id": "2eb88bce",
   "metadata": {},
   "outputs": [],
   "source": [
    "summary_old = old.describe()"
   ]
  },
  {
   "cell_type": "code",
   "execution_count": 12,
   "id": "6e091599",
   "metadata": {},
   "outputs": [],
   "source": [
    "summary_new = new.describe()"
   ]
  },
  {
   "cell_type": "code",
   "execution_count": 13,
   "id": "aa318c90",
   "metadata": {},
   "outputs": [
    {
     "name": "stdout",
     "output_type": "stream",
     "text": [
      "         Unnamed: 0        origin   destination      distance  distance_mile  \\\n",
      "count  2.467482e+07  2.467482e+07  2.467482e+07  2.467482e+07   2.467482e+07   \n",
      "mean   1.032130e+07  6.053764e+09  6.053764e+09  4.574721e+01   5.710470e+01   \n",
      "std    6.047912e+06  2.380572e+07  2.380572e+07  2.751380e+01   3.313567e+01   \n",
      "min    0.000000e+00  6.001400e+09  6.001400e+09  0.000000e+00   3.631533e-01   \n",
      "25%    5.183406e+06  6.037302e+09  6.037302e+09  2.191539e+01   2.862660e+01   \n",
      "50%    1.023870e+07  6.059002e+09  6.059002e+09  4.206031e+01   5.279696e+01   \n",
      "75%    1.529294e+07  6.071007e+09  6.071007e+09  6.840633e+01   8.431800e+01   \n",
      "max    2.467482e+07  6.115041e+09  6.115041e+09  9.999999e+01   4.434298e+02   \n",
      "\n",
      "       travel_time_h     avg_speed  \n",
      "count   2.467482e+07  2.467482e+07  \n",
      "mean    1.216473e+00  4.350245e+01  \n",
      "std     5.460169e-01  1.021120e+01  \n",
      "min     3.194444e-02  3.278452e+00  \n",
      "25%     7.663889e-01  3.791863e+01  \n",
      "50%     1.164460e+00  4.642752e+01  \n",
      "75%     1.648335e+00  5.158296e+01  \n",
      "max     8.929722e+00  8.000000e+01  \n"
     ]
    }
   ],
   "source": [
    "print(summary_old)"
   ]
  },
  {
   "cell_type": "code",
   "execution_count": 14,
   "id": "7e50a0f8",
   "metadata": {},
   "outputs": [
    {
     "name": "stdout",
     "output_type": "stream",
     "text": [
      "         Unnamed: 0        origin   destination      distance  distance_mile  \\\n",
      "count  2.462828e+07  2.462828e+07  2.462828e+07  2.462828e+07   2.462828e+07   \n",
      "mean   9.956781e+06  6.053767e+09  6.053767e+09  4.573592e+01   5.720026e+01   \n",
      "std    5.964219e+06  2.379183e+07  2.379183e+07  2.750745e+01   3.316493e+01   \n",
      "min    0.000000e+00  6.001400e+09  6.001400e+09  0.000000e+00   2.808422e-01   \n",
      "25%    4.866754e+06  6.037302e+09  6.037302e+09  2.191058e+01   2.872652e+01   \n",
      "50%    9.768088e+06  6.059002e+09  6.059002e+09  4.205508e+01   5.292072e+01   \n",
      "75%    1.476206e+07  6.071007e+09  6.071007e+09  6.837922e+01   8.441579e+01   \n",
      "max    2.462828e+07  6.115041e+09  6.115041e+09  1.000000e+02   4.434298e+02   \n",
      "\n",
      "       travel_time_h     avg_speed  \n",
      "count   2.462828e+07  2.462828e+07  \n",
      "mean    1.253931e+00  4.228444e+01  \n",
      "std     5.570854e-01  1.024672e+01  \n",
      "min     3.333333e-02  3.339008e+00  \n",
      "25%     8.001265e-01  3.653751e+01  \n",
      "50%     1.203807e+00  4.504703e+01  \n",
      "75%     1.693363e+00  5.045913e+01  \n",
      "max     9.155833e+00  8.000000e+01  \n"
     ]
    }
   ],
   "source": [
    "print(summary_new)"
   ]
  },
  {
   "cell_type": "code",
   "execution_count": 15,
   "id": "683e7eb1",
   "metadata": {},
   "outputs": [],
   "source": [
    "diff_sum = summary_new - summary_old"
   ]
  },
  {
   "cell_type": "code",
   "execution_count": 16,
   "id": "f0a066aa",
   "metadata": {},
   "outputs": [
    {
     "name": "stdout",
     "output_type": "stream",
     "text": [
      "          Unnamed: 0        origin   destination      distance  distance_mile  \\\n",
      "count  -46542.000000 -46542.000000 -46542.000000 -46542.000000  -46542.000000   \n",
      "mean  -364521.278652   2770.997479   2770.997479     -0.011287       0.095555   \n",
      "std    -83692.658028 -13885.854786 -13885.854786     -0.006345       0.029270   \n",
      "min         0.000000      0.000000      0.000000      0.000000      -0.082311   \n",
      "25%   -316652.250000     -1.000000     -1.000000     -0.004814       0.099926   \n",
      "50%   -470609.000000      1.000000      1.000000     -0.005227       0.123756   \n",
      "75%   -530879.500000     -1.000000     -1.000000     -0.027111       0.097786   \n",
      "max    -46542.000000      0.000000      0.000000      0.000004       0.000000   \n",
      "\n",
      "       travel_time_h     avg_speed  \n",
      "count  -46542.000000 -46542.000000  \n",
      "mean        0.037458     -1.218009  \n",
      "std         0.011068      0.035518  \n",
      "min         0.001389      0.060556  \n",
      "25%         0.033738     -1.381128  \n",
      "50%         0.039347     -1.380486  \n",
      "75%         0.045028     -1.123829  \n",
      "max         0.226111      0.000000  \n"
     ]
    }
   ],
   "source": [
    "print(diff_sum)"
   ]
  },
  {
   "cell_type": "code",
   "execution_count": 17,
   "id": "76454a9d",
   "metadata": {},
   "outputs": [],
   "source": [
    "# K-S test: speed\n",
    "from scipy.stats import ks_2samp"
   ]
  },
  {
   "cell_type": "code",
   "execution_count": 18,
   "id": "26e2ea0a",
   "metadata": {},
   "outputs": [],
   "source": [
    "ks_statistic_speed, p_value_speed = ks_2samp(old['avg_speed'], new['avg_speed'])"
   ]
  },
  {
   "cell_type": "code",
   "execution_count": 19,
   "id": "d5bc5b4b",
   "metadata": {},
   "outputs": [
    {
     "name": "stdout",
     "output_type": "stream",
     "text": [
      "0.15816245539130025\n"
     ]
    }
   ],
   "source": [
    "print(ks_statistic_speed)"
   ]
  },
  {
   "cell_type": "code",
   "execution_count": 20,
   "id": "75575922",
   "metadata": {},
   "outputs": [
    {
     "name": "stdout",
     "output_type": "stream",
     "text": [
      "0.0\n"
     ]
    }
   ],
   "source": [
    "print(p_value_speed)"
   ]
  },
  {
   "cell_type": "code",
   "execution_count": 21,
   "id": "51fa0199",
   "metadata": {},
   "outputs": [],
   "source": [
    "# K-S test: speed\n",
    "ks_statistic_distance, p_value_distance = ks_2samp(old['distance'], new['distance'])"
   ]
  },
  {
   "cell_type": "code",
   "execution_count": 22,
   "id": "5ee869ac",
   "metadata": {},
   "outputs": [
    {
     "name": "stdout",
     "output_type": "stream",
     "text": [
      "0.0002444446924391164\n"
     ]
    }
   ],
   "source": [
    "print(ks_statistic_distance)"
   ]
  },
  {
   "cell_type": "code",
   "execution_count": 23,
   "id": "0a702cdf",
   "metadata": {},
   "outputs": [
    {
     "name": "stdout",
     "output_type": "stream",
     "text": [
      "0.45287959126657984\n"
     ]
    }
   ],
   "source": [
    "print(p_value_distance)"
   ]
  },
  {
   "cell_type": "code",
   "execution_count": 24,
   "id": "0d888ab4",
   "metadata": {},
   "outputs": [],
   "source": [
    "# K-S test: travel time\n",
    "ks_statistic_tt, p_value_tt = ks_2samp(old['travel_time_h'], new['travel_time_h'])"
   ]
  },
  {
   "cell_type": "code",
   "execution_count": 25,
   "id": "53ab3b9d",
   "metadata": {},
   "outputs": [
    {
     "name": "stdout",
     "output_type": "stream",
     "text": [
      "0.026764320535967334\n"
     ]
    }
   ],
   "source": [
    "print(ks_statistic_tt)"
   ]
  },
  {
   "cell_type": "code",
   "execution_count": 26,
   "id": "ab1bb315",
   "metadata": {},
   "outputs": [
    {
     "name": "stdout",
     "output_type": "stream",
     "text": [
      "0.0\n"
     ]
    }
   ],
   "source": [
    "print(p_value_tt)"
   ]
  },
  {
   "cell_type": "code",
   "execution_count": 27,
   "id": "0691e052",
   "metadata": {},
   "outputs": [],
   "source": [
    "# Histograms"
   ]
  },
  {
   "cell_type": "code",
   "execution_count": 28,
   "id": "f5332cbe",
   "metadata": {},
   "outputs": [
    {
     "data": {
      "image/png": "[encoded data removed]",
      "text/plain": [
       "<Figure size 640x480 with 1 Axes>"
      ]
     },
     "metadata": {},
     "output_type": "display_data"
    }
   ],
   "source": [
    "plt.hist(old['avg_speed'], bins=40, alpha=0.7, label='Old Speed')\n",
    "plt.hist(new['avg_speed'], bins=40, alpha=0.7, label='New Speed')\n",
    "plt.legend(loc='upper right')\n",
    "plt.show()"
   ]
  },
  {
   "cell_type": "code",
   "execution_count": 29,
   "id": "645fedad",
   "metadata": {},
   "outputs": [
    {
     "data": {
      "image/png": "[encoded data removed]",
      "text/plain": [
       "<Figure size 640x480 with 1 Axes>"
      ]
     },
     "metadata": {},
     "output_type": "display_data"
    }
   ],
   "source": [
    "plt.hist(old['distance'], bins=40, alpha=0.7, label='Old Distance')\n",
    "plt.hist(new['distance'], bins=40, alpha=0.7, label='New Distance')\n",
    "plt.legend(loc='upper right')\n",
    "plt.show()"
   ]
  },
  {
   "cell_type": "code",
   "execution_count": 30,
   "id": "6146e41a",
   "metadata": {},
   "outputs": [
    {
     "data": {
      "image/png": "[encoded data removed]",
      "text/plain": [
       "<Figure size 640x480 with 1 Axes>"
      ]
     },
     "metadata": {},
     "output_type": "display_data"
    }
   ],
   "source": [
    "plt.hist(old['origin'], bins=40, alpha=0.7, label='Old Origin')\n",
    "plt.hist(new['origin'], bins=40, alpha=0.7, label='New Origin')\n",
    "plt.legend(loc='upper right')\n",
    "plt.show()"
   ]
  },
  {
   "cell_type": "code",
   "execution_count": 31,
   "id": "c5046840",
   "metadata": {},
   "outputs": [
    {
     "data": {
      "image/png": "[encoded data removed]",
      "text/plain": [
       "<Figure size 640x480 with 1 Axes>"
      ]
     },
     "metadata": {},
     "output_type": "display_data"
    }
   ],
   "source": [
    "plt.hist(old['travel_time_h'], bins=40, alpha=0.7, label='Old TT')\n",
    "plt.hist(new['travel_time_h'], bins=40, alpha=0.7, label='New TT')\n",
    "plt.legend(loc='upper right')\n",
    "plt.show()"
   ]
  },
  {
   "cell_type": "code",
   "execution_count": 32,
   "id": "d3a7a1fb",
   "metadata": {},
   "outputs": [],
   "source": [
    "# Look by od pair\n",
    "new['OD'] = new['origin'].astype(str) + \"_\" + new['destination'].astype(str)\n",
    "old['OD'] = old['origin'].astype(str) + \"_\" + old['destination'].astype(str)"
   ]
  },
  {
   "cell_type": "code",
   "execution_count": 33,
   "id": "0dff54d9",
   "metadata": {},
   "outputs": [],
   "source": [
    "# OD Lookup\n",
    "od_lookup = \"6001405800_6001400100\"\n",
    "\n",
    "# Filter by OD column match\n",
    "match_old = old[old['OD'] == od_lookup]\n",
    "match_new = new[new['OD'] == od_lookup]"
   ]
  },
  {
   "cell_type": "code",
   "execution_count": 34,
   "id": "8a5869c2",
   "metadata": {},
   "outputs": [
    {
     "name": "stdout",
     "output_type": "stream",
     "text": [
      "        Unnamed: 0      origin  destination  distance  distance_mile  \\\n",
      "185257      185257  6001405800   6001400100  5.085464       8.330714   \n",
      "\n",
      "        travel_time_h  avg_speed                     OD  \n",
      "185257       0.381084  21.860568  6001405800_6001400100  \n"
     ]
    }
   ],
   "source": [
    "print(match_old)"
   ]
  },
  {
   "cell_type": "code",
   "execution_count": 35,
   "id": "2c520d09",
   "metadata": {},
   "outputs": [
    {
     "name": "stdout",
     "output_type": "stream",
     "text": [
      "   Unnamed: 0      origin  destination  distance  distance_mile  \\\n",
      "0           0  6001405800   6001400100  5.092027       8.431728   \n",
      "\n",
      "   travel_time_h  avg_speed                     OD  \n",
      "0       0.399796  21.090076  6001405800_6001400100  \n"
     ]
    }
   ],
   "source": [
    "print(match_new)"
   ]
  },
  {
   "cell_type": "code",
   "execution_count": 36,
   "id": "8078892f",
   "metadata": {},
   "outputs": [],
   "source": [
    "# Tht 'new' dataset drops observations from the weekend\n",
    "# Usually those correspond to higher speeds\n",
    "# This means that the overall speed goes down in the 'new' data\n",
    "# Hence, average travel time goes up in the 'new' data\n",
    "# Differences seem tolerable."
   ]
  },
  {
   "cell_type": "code",
   "execution_count": 40,
   "id": "84710b2a",
   "metadata": {},
   "outputs": [],
   "source": [
    "# Add scatter plots"
   ]
  },
  {
   "cell_type": "code",
   "execution_count": 45,
   "id": "a1487a39",
   "metadata": {},
   "outputs": [],
   "source": [
    "# Travel time\n",
    "#plt.scatter(old['distance'], old['travel_time_h'], color='blue', marker='o')\n",
    "#plt.scatter(new['distance'], new['travel_time_h'], color='red', marker='x')\n",
    "#plt.legend(loc='upper right')\n",
    "#plt.show()"
   ]
  },
  {
   "cell_type": "code",
   "execution_count": 46,
   "id": "6de2fb9f",
   "metadata": {},
   "outputs": [],
   "source": [
    "# Avg speed\n",
    "#plt.scatter(old['distance'], old['avg_speed'], color='blue', marker='o')\n",
    "#plt.scatter(new['distance'], new['avg_speed'], color='red', marker='x')\n",
    "#plt.legend(loc='upper right')\n",
    "#plt.show()"
   ]
  },
  {
   "cell_type": "code",
   "execution_count": null,
   "id": "61da3406",
   "metadata": {},
   "outputs": [],
   "source": []
  }
 ],
 "metadata": {
  "kernelspec": {
   "display_name": "Python 3 (ipykernel)",
   "language": "python",
   "name": "python3"
  },
  "language_info": {
   "codemirror_mode": {
    "name": "ipython",
    "version": 3
   },
   "file_extension": ".py",
   "mimetype": "text/x-python",
   "name": "python",
   "nbconvert_exporter": "python",
   "pygments_lexer": "ipython3",
   "version": "3.10.12"
  }
 },
 "nbformat": 4,
 "nbformat_minor": 5
}
