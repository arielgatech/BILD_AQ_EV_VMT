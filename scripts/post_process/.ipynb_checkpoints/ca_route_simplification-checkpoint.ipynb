{
 "cells": [
  {
   "cell_type": "code",
   "execution_count": 1,
   "id": "e83ecf81-885b-4453-89d0-1480da01b26e",
   "metadata": {},
   "outputs": [],
   "source": [
    "# load packages\n",
    "import os\n",
    "from pandas import read_csv\n",
    "import pandas as pd\n",
    "import matplotlib.pyplot as plt\n",
    "import seaborn as sns\n",
    "import numpy as np\n",
    "import shapely.wkt\n",
    "import geopandas as gpd\n",
    "import contextily as cx\n",
    "import matplotlib\n",
    "import warnings\n",
    "from  matplotlib.ticker import PercentFormatter\n",
    "warnings.filterwarnings(\"ignore\")\n",
    "#work directory is where the I-O data are stored\n",
    "work_dir = '/Users/xiaodanxu/Library/CloudStorage/GoogleDrive-arielinseu@gmail.com/My Drive/GEMS/BILD-AQ'\n",
    "os.chdir(work_dir)"
   ]
  },
  {
   "cell_type": "code",
   "execution_count": 2,
   "id": "e12ec35b-76cf-44c1-9a76-ced1b3f09094",
   "metadata": {},
   "outputs": [
    {
     "data": {
      "text/plain": [
       "GEOID\n",
       "06001425103    POINT (-122.28986 37.84258)\n",
       "06001425104    POINT (-122.28341 37.83264)\n",
       "06001426100    POINT (-122.22539 37.82162)\n",
       "06001427100    POINT (-122.23122 37.76464)\n",
       "06001427800    POINT (-122.26905 37.77147)\n",
       "Name: centroids, dtype: geometry"
      ]
     },
     "execution_count": 2,
     "metadata": {},
     "output_type": "execute_result"
    }
   ],
   "source": [
    "# load census tract file\n",
    "state = 'CA'\n",
    "census_tract_gdf = gpd.read_file('data/Network/' + state + '/CA_census_tracts_2010_clean.geojson')\n",
    "census_tract_df = pd.DataFrame(census_tract_gdf.drop(columns='geometry'))\n",
    "\n",
    "# census_tract_gdf.head(5)\n",
    "census_tract_gdf = census_tract_gdf.set_index('GEOID')\n",
    "centroids = census_tract_gdf.centroid\n",
    "centroids = gpd.GeoSeries(centroids, name='centroids')\n",
    "centroids.head(5)"
   ]
  },
  {
   "cell_type": "code",
   "execution_count": 3,
   "id": "744fed32-1c05-441f-8988-7f49f951d4e8",
   "metadata": {},
   "outputs": [
    {
     "name": "stdout",
     "output_type": "stream",
     "text": [
      "64915249\n"
     ]
    },
    {
     "data": {
      "text/html": [
       "<div>\n",
       "<style scoped>\n",
       "    .dataframe tbody tr th:only-of-type {\n",
       "        vertical-align: middle;\n",
       "    }\n",
       "\n",
       "    .dataframe tbody tr th {\n",
       "        vertical-align: top;\n",
       "    }\n",
       "\n",
       "    .dataframe thead th {\n",
       "        text-align: right;\n",
       "    }\n",
       "</style>\n",
       "<table border=\"1\" class=\"dataframe\">\n",
       "  <thead>\n",
       "    <tr style=\"text-align: right;\">\n",
       "      <th></th>\n",
       "      <th>o_GEOID</th>\n",
       "      <th>d_GEOID</th>\n",
       "    </tr>\n",
       "  </thead>\n",
       "  <tbody>\n",
       "    <tr>\n",
       "      <th>0</th>\n",
       "      <td>06001425103</td>\n",
       "      <td>06001425103</td>\n",
       "    </tr>\n",
       "    <tr>\n",
       "      <th>1</th>\n",
       "      <td>06001425103</td>\n",
       "      <td>06001425104</td>\n",
       "    </tr>\n",
       "    <tr>\n",
       "      <th>2</th>\n",
       "      <td>06001425103</td>\n",
       "      <td>06001426100</td>\n",
       "    </tr>\n",
       "    <tr>\n",
       "      <th>3</th>\n",
       "      <td>06001425103</td>\n",
       "      <td>06001427100</td>\n",
       "    </tr>\n",
       "    <tr>\n",
       "      <th>4</th>\n",
       "      <td>06001425103</td>\n",
       "      <td>06001427800</td>\n",
       "    </tr>\n",
       "  </tbody>\n",
       "</table>\n",
       "</div>"
      ],
      "text/plain": [
       "       o_GEOID      d_GEOID\n",
       "0  06001425103  06001425103\n",
       "1  06001425103  06001425104\n",
       "2  06001425103  06001426100\n",
       "3  06001425103  06001427100\n",
       "4  06001425103  06001427800"
      ]
     },
     "execution_count": 3,
     "metadata": {},
     "output_type": "execute_result"
    }
   ],
   "source": [
    "# create grid of points\n",
    "# census_tract_df = census_tract_df.reset_index()\n",
    "geoid = census_tract_df['GEOID']\n",
    "geoid = geoid.to_frame()\n",
    "centroids_pair = geoid.merge(geoid, how=\"cross\") \n",
    "print(len(centroids_pair))\n",
    "\n",
    "centroids_pair.columns = ['o_GEOID', 'd_GEOID']\n",
    "centroids_pair.loc[:, 'o_point'] = centroids_pair.apply(lambda row : centroids.loc[row['o_GEOID']], axis = 1)\n",
    "centroids_pair.loc[:, 'd_point'] = centroids_pair.apply(lambda row : centroids.loc[row['d_GEOID']], axis = 1)\n",
    "centroids_pair.head(5)"
   ]
  },
  {
   "cell_type": "code",
   "execution_count": 46,
   "id": "74426852-1c5b-4e42-8f2d-82162a5b6a2a",
   "metadata": {},
   "outputs": [
    {
     "name": "stdout",
     "output_type": "stream",
     "text": [
      "64770304\n"
     ]
    },
    {
     "data": {
      "text/html": [
       "<div>\n",
       "<style scoped>\n",
       "    .dataframe tbody tr th:only-of-type {\n",
       "        vertical-align: middle;\n",
       "    }\n",
       "\n",
       "    .dataframe tbody tr th {\n",
       "        vertical-align: top;\n",
       "    }\n",
       "\n",
       "    .dataframe thead th {\n",
       "        text-align: right;\n",
       "    }\n",
       "</style>\n",
       "<table border=\"1\" class=\"dataframe\">\n",
       "  <thead>\n",
       "    <tr style=\"text-align: right;\">\n",
       "      <th></th>\n",
       "      <th>o_GEOID</th>\n",
       "      <th>d_GEOID</th>\n",
       "      <th>o_point</th>\n",
       "      <th>d_point</th>\n",
       "      <th>line</th>\n",
       "    </tr>\n",
       "  </thead>\n",
       "  <tbody>\n",
       "    <tr>\n",
       "      <th>0</th>\n",
       "      <td>06001425103</td>\n",
       "      <td>06001425103</td>\n",
       "      <td>POINT (-122.2898572155132 37.84257856237884)</td>\n",
       "      <td>POINT (-122.2898572155132 37.84257856237884)</td>\n",
       "      <td>LINESTRING (-122.2898572155132 37.842578562378...</td>\n",
       "    </tr>\n",
       "    <tr>\n",
       "      <th>1</th>\n",
       "      <td>06001425103</td>\n",
       "      <td>06001425104</td>\n",
       "      <td>POINT (-122.2898572155132 37.84257856237884)</td>\n",
       "      <td>POINT (-122.2834131345516 37.83263683745681)</td>\n",
       "      <td>LINESTRING (-122.2898572155132 37.842578562378...</td>\n",
       "    </tr>\n",
       "    <tr>\n",
       "      <th>2</th>\n",
       "      <td>06001425103</td>\n",
       "      <td>06001426100</td>\n",
       "      <td>POINT (-122.2898572155132 37.84257856237884)</td>\n",
       "      <td>POINT (-122.2253875800942 37.82162020179477)</td>\n",
       "      <td>LINESTRING (-122.2898572155132 37.842578562378...</td>\n",
       "    </tr>\n",
       "    <tr>\n",
       "      <th>3</th>\n",
       "      <td>06001425103</td>\n",
       "      <td>06001427100</td>\n",
       "      <td>POINT (-122.2898572155132 37.84257856237884)</td>\n",
       "      <td>POINT (-122.2312228822432 37.76463864410857)</td>\n",
       "      <td>LINESTRING (-122.2898572155132 37.842578562378...</td>\n",
       "    </tr>\n",
       "    <tr>\n",
       "      <th>4</th>\n",
       "      <td>06001425103</td>\n",
       "      <td>06001427800</td>\n",
       "      <td>POINT (-122.2898572155132 37.84257856237884)</td>\n",
       "      <td>POINT (-122.2690491987007 37.7714691844523)</td>\n",
       "      <td>LINESTRING (-122.2898572155132 37.842578562378...</td>\n",
       "    </tr>\n",
       "  </tbody>\n",
       "</table>\n",
       "</div>"
      ],
      "text/plain": [
       "       o_GEOID      d_GEOID                                       o_point  \\\n",
       "0  06001425103  06001425103  POINT (-122.2898572155132 37.84257856237884)   \n",
       "1  06001425103  06001425104  POINT (-122.2898572155132 37.84257856237884)   \n",
       "2  06001425103  06001426100  POINT (-122.2898572155132 37.84257856237884)   \n",
       "3  06001425103  06001427100  POINT (-122.2898572155132 37.84257856237884)   \n",
       "4  06001425103  06001427800  POINT (-122.2898572155132 37.84257856237884)   \n",
       "\n",
       "                                        d_point  \\\n",
       "0  POINT (-122.2898572155132 37.84257856237884)   \n",
       "1  POINT (-122.2834131345516 37.83263683745681)   \n",
       "2  POINT (-122.2253875800942 37.82162020179477)   \n",
       "3  POINT (-122.2312228822432 37.76463864410857)   \n",
       "4   POINT (-122.2690491987007 37.7714691844523)   \n",
       "\n",
       "                                                line  \n",
       "0  LINESTRING (-122.2898572155132 37.842578562378...  \n",
       "1  LINESTRING (-122.2898572155132 37.842578562378...  \n",
       "2  LINESTRING (-122.2898572155132 37.842578562378...  \n",
       "3  LINESTRING (-122.2898572155132 37.842578562378...  \n",
       "4  LINESTRING (-122.2898572155132 37.842578562378...  "
      ]
     },
     "execution_count": 46,
     "metadata": {},
     "output_type": "execute_result"
    }
   ],
   "source": [
    "from shapely.geometry import LineString\n",
    "# print(centroids_pair.head(5))\n",
    "# sample_centroids_pair = centroids_pair.head(10000)\n",
    "\n",
    "def get_line(x, y):\n",
    "    try:\n",
    "        # Floor Division : Gives only Fractional\n",
    "        # Part as Answer\n",
    "        result = LineString([x, y])\n",
    "#         print(result)\n",
    "    except IndexError:\n",
    "        result = np.nan\n",
    "    return(result)\n",
    "# sample_centroids_pair.to_csv('data/tract_centroid_troubleshoot.csv')\n",
    "# centroids_pair = centroids_pair.loc[centroids_pair['o_point'] != 'POINT EMPTY']\n",
    "# centroids_pair = centroids_pair.loc[centroids_pair['d_point'] != 'POINT EMPTY']\n",
    "# for row in sample_centroids_pair.iterrows():\n",
    "#     print(row)\n",
    "#     LineString([row['o_point'], row['d_point']])\n",
    "centroids_pair.loc[:, 'line'] = \\\n",
    "centroids_pair.apply(lambda row: get_line(row['o_point'], row['d_point']), axis=1)\n",
    "centroids_pair = centroids_pair.dropna()\n",
    "print(len(centroids_pair))\n",
    "centroids_pair.head(5)\n"
   ]
  },
  {
   "cell_type": "code",
   "execution_count": null,
   "id": "a0199a59-32c2-497d-b298-650956c6b304",
   "metadata": {},
   "outputs": [],
   "source": [
    "centroids_pair_gdf = gpd.GeoDataFrame(centroids_pair, \n",
    "                                 crs=\"EPSG:4326\", geometry= 'line')\n",
    "centroids_pair_gdf.to_file('data/Network/' + state + '/CA_OD_desire_lines.geojson\", driver='GeoJSON')\n",
    "# centroids_pair.loc[:, 'length'] = centroids_pair.line.length\n",
    "# centroids_pair.plot()"
   ]
  },
  {
   "cell_type": "code",
   "execution_count": 13,
   "id": "e6daf17c-4630-491c-b62d-ca774ca89f4f",
   "metadata": {},
   "outputs": [
    {
     "ename": "TypeError",
     "evalue": "tuple indices must be integers or slices, not str",
     "output_type": "error",
     "traceback": [
      "\u001b[0;31m---------------------------------------------------------------------------\u001b[0m",
      "\u001b[0;31mTypeError\u001b[0m                                 Traceback (most recent call last)",
      "\u001b[0;32m/var/folders/w6/7qcyt43n21ddydhdfdslrp7c0000gp/T/ipykernel_24114/3446465379.py\u001b[0m in \u001b[0;36m<module>\u001b[0;34m\u001b[0m\n\u001b[1;32m      6\u001b[0m \u001b[0;32mfor\u001b[0m \u001b[0mrow\u001b[0m \u001b[0;32min\u001b[0m \u001b[0msample_point\u001b[0m\u001b[0;34m.\u001b[0m\u001b[0miterrows\u001b[0m\u001b[0;34m(\u001b[0m\u001b[0;34m)\u001b[0m\u001b[0;34m:\u001b[0m\u001b[0;34m\u001b[0m\u001b[0;34m\u001b[0m\u001b[0m\n\u001b[1;32m      7\u001b[0m     \u001b[0msample_point_with_destination\u001b[0m \u001b[0;34m=\u001b[0m \u001b[0msample_point\u001b[0m\u001b[0;34m\u001b[0m\u001b[0;34m\u001b[0m\u001b[0m\n\u001b[0;32m----> 8\u001b[0;31m     \u001b[0msample_point_with_destination\u001b[0m\u001b[0;34m.\u001b[0m\u001b[0mloc\u001b[0m\u001b[0;34m[\u001b[0m\u001b[0;34m:\u001b[0m\u001b[0;34m,\u001b[0m \u001b[0;34m'destination'\u001b[0m\u001b[0;34m]\u001b[0m \u001b[0;34m=\u001b[0m \u001b[0mrow\u001b[0m\u001b[0;34m[\u001b[0m\u001b[0;34m'centroids'\u001b[0m\u001b[0;34m]\u001b[0m\u001b[0;34m\u001b[0m\u001b[0;34m\u001b[0m\u001b[0m\n\u001b[0m\u001b[1;32m      9\u001b[0m     \u001b[0msample_point_with_destination\u001b[0m\u001b[0;34m.\u001b[0m\u001b[0mloc\u001b[0m\u001b[0;34m[\u001b[0m\u001b[0;34m:\u001b[0m\u001b[0;34m,\u001b[0m \u001b[0;34m'dest_tract'\u001b[0m\u001b[0;34m]\u001b[0m \u001b[0;34m=\u001b[0m \u001b[0mrow\u001b[0m\u001b[0;34m[\u001b[0m\u001b[0;34m'GEOID'\u001b[0m\u001b[0;34m]\u001b[0m\u001b[0;34m\u001b[0m\u001b[0;34m\u001b[0m\u001b[0m\n\u001b[1;32m     10\u001b[0m     sample_point_pairs = pd.concat([sample_point_pairs, \n",
      "\u001b[0;31mTypeError\u001b[0m: tuple indices must be integers or slices, not str"
     ]
    }
   ],
   "source": [
    "#create lines from points\n",
    "\n",
    "\n",
    "sample_point = census_tract_centroid.head(10)\n",
    "sample_point_pairs = None\n",
    "for row in sample_point.iterrows():\n",
    "    sample_point_with_destination = sample_point\n",
    "    sample_point_with_destination.loc[:, 'destination'] = row['centroids']\n",
    "    sample_point_with_destination.loc[:, 'dest_tract'] = row['GEOID']\n",
    "    sample_point_pairs = pd.concat([sample_point_pairs, \n",
    "                                    sample_point_with_destination], axis = 1)\n",
    "print(len(sample_point_pairs))\n",
    "sample_point_pairs.head(5)\n",
    "lines = LineString(sample_point.loc[0, 'centroids'], \n",
    "                   sample_point.loc[1, 'centroids'])\n",
    "lines.plot()"
   ]
  },
  {
   "cell_type": "code",
   "execution_count": null,
   "id": "11c6417c-b35c-4616-9e45-d99bc2a3fc86",
   "metadata": {},
   "outputs": [],
   "source": []
  },
  {
   "cell_type": "code",
   "execution_count": 18,
   "id": "64550308-5389-4b42-b274-8b59228aa276",
   "metadata": {},
   "outputs": [
    {
     "name": "stdout",
     "output_type": "stream",
     "text": [
      "Index(['06001425103', '06001425104', '06001426100', '06001427100',\n",
      "       '06001427800', '06001428302', '06001430300', '06001430700',\n",
      "       '06001431100', '06001432501',\n",
      "       ...\n",
      "       '06111005004', '06013990000', '06015990000', '06023990100',\n",
      "       '06037990100', '06059990100', '06075990100', '06079990000',\n",
      "       '06087990100', '06097990100'],\n",
      "      dtype='object', name='GEOID', length=8057)\n",
      "POINT (-122.2898572155132 37.84257856237884) POINT (-122.2834131345516 37.83263683745681)\n"
     ]
    }
   ],
   "source": [
    "print(centroids.index)\n",
    "point1 = centroids[0]\n",
    "point2 = centroids[1]\n",
    "print(point1, point2)\n",
    "line = LineString([point1, point2])"
   ]
  },
  {
   "cell_type": "code",
   "execution_count": 27,
   "id": "7d37bbe4-f90d-448c-8cbe-c0cef4cb23c4",
   "metadata": {},
   "outputs": [
    {
     "name": "stdout",
     "output_type": "stream",
     "text": [
      "POINT (-122.2898572155132 37.84257856237884)\n"
     ]
    }
   ],
   "source": [
    "print(centroids.loc['06001425103'])"
   ]
  },
  {
   "cell_type": "code",
   "execution_count": null,
   "id": "49249a5c-fc8f-47ba-8645-85c7c7b8f530",
   "metadata": {},
   "outputs": [],
   "source": []
  }
 ],
 "metadata": {
  "kernelspec": {
   "display_name": "Python 3 (ipykernel)",
   "language": "python",
   "name": "python3"
  },
  "language_info": {
   "codemirror_mode": {
    "name": "ipython",
    "version": 3
   },
   "file_extension": ".py",
   "mimetype": "text/x-python",
   "name": "python",
   "nbconvert_exporter": "python",
   "pygments_lexer": "ipython3",
   "version": "3.8.8"
  }
 },
 "nbformat": 4,
 "nbformat_minor": 5
}
