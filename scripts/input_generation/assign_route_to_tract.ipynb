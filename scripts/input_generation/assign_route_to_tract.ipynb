{
 "cells": [
  {
   "cell_type": "code",
   "execution_count": 1,
   "id": "a0297b79-2053-4b7e-9799-7e41c0fecfdd",
   "metadata": {},
   "outputs": [],
   "source": [
    "import pandas as pd\n",
    "import geopandas as gpd\n",
    "import time\n",
    "import os\n",
    "import warnings\n",
    "from pandas import read_csv\n",
    "\n",
    "warnings.filterwarnings(\"ignore\")\n",
    "os.chdir('/Users/xiaodanxu/Library/CloudStorage/GoogleDrive-arielinseu@gmail.com/My Drive/GEMS/BILD-AQ/data')\n",
    "# selected_state = 'MS'"
   ]
  },
  {
   "cell_type": "code",
   "execution_count": 2,
   "id": "ecd74bf6-7bab-48f3-92db-4d5d513f9eda",
   "metadata": {},
   "outputs": [],
   "source": [
    "microtype_lookup = read_csv('ccst_geoid_key_tranps_geo_with_imputation.csv', sep = ',')\n",
    "# state_list = microtype_lookup['st_code'].unique()\n",
    "# state_list = ['AZ', 'NV']"
   ]
  },
  {
   "cell_type": "code",
   "execution_count": null,
   "id": "ce24dd8f-1ed1-468e-8d72-9536522f51f0",
   "metadata": {},
   "outputs": [],
   "source": [
    "census_tract_shapefile = 'Network/combined/census_tracts_2017.geojson'\n",
    "polygon_gdf = gpd.read_file(census_tract_shapefile)\n",
    "polygon_gdf = polygon_gdf.to_crs('EPSG:4326')\n",
    "# polygon_gdf.plot()\n",
    "from pygris.utils import shift_geometry\n",
    "\n",
    "polygon_gdf_rescaled = shift_geometry(polygon_gdf)\n",
    "polygon_gdf_rescaled.plot()"
   ]
  },
  {
   "cell_type": "code",
   "execution_count": 4,
   "id": "4a4178f1-803b-4d0b-b55c-c99c116fa7b5",
   "metadata": {},
   "outputs": [
    {
     "name": "stdout",
     "output_type": "stream",
     "text": [
      "processing state AZ\n",
      "processing route result-4-csv_0.geojson\n",
      "processing route result-4-csv_1.geojson\n",
      "processing route result-4-csv_2.geojson\n",
      "processing route result-4-csv_3.geojson\n",
      "processing route result-4-csv_4.geojson\n",
      "processing route result-4-csv_5.geojson\n",
      "processing route result-20-csv_0.geojson\n",
      "processing route result-20-csv_1.geojson\n",
      "processing route result-20-csv_2.geojson\n",
      "processing route result-20-csv_3.geojson\n",
      "processing route result-20-csv_4.geojson\n",
      "processing route result-20-csv_5.geojson\n",
      "spatial intersection in Python takes 14131.783043146133 sec\n",
      "processing state NV\n",
      "processing route result-5-csv-3_0.geojson\n",
      "processing route result-5-csv-3_1.geojson\n",
      "spatial intersection in Python takes 1981.9662718772888 sec\n"
     ]
    }
   ],
   "source": [
    "# perform spatial intersection\n",
    "for selected_state in state_list:\n",
    "    if selected_state == 'OH':\n",
    "        continue\n",
    "    print('processing state ' + selected_state)\n",
    "    output_dir = 'internal/' + selected_state\n",
    "    route_list = [file for file in os.listdir(output_dir) if file.endswith('.geojson')]\n",
    "#     print(route_list[0:5])\n",
    "    start_time = time.time()\n",
    "    for route in route_list:\n",
    "        if route.startswith('._'):\n",
    "            continue\n",
    "        file_name = route.split('.geojson')[0]\n",
    "        isExist = os.path.exists(output_dir + '/' + file_name + '.csv')\n",
    "        if isExist:\n",
    "            continue\n",
    "        print('processing route ' + route)\n",
    "        line_gdf = gpd.read_file(output_dir + '/' + route)\n",
    "    #     sample_line_gdf = line_gdf.head(100)\n",
    "        # print(start_time)\n",
    "        line_by_polygon = gpd.overlay(line_gdf, polygon_gdf, how='intersection')\n",
    "\n",
    "        # compute segment length in meters\n",
    "        line_by_polygon = line_by_polygon.to_crs(\"EPSG:3310\") \n",
    "        # in order to get length in meter, the shapefile need to re-projected to a coordinate system in meters (not required in R)\n",
    "        line_by_polygon.loc[:, 'Length'] = line_by_polygon.loc[:, 'geometry'].length\n",
    "        \n",
    "        line_by_polygon_df = pd.DataFrame(line_by_polygon.drop(columns='geometry'))\n",
    "        line_by_polygon_df = line_by_polygon_df[['source',\t'destination',\n",
    "                                                  'distance', 'GEOID', 'Length']]\n",
    "    #     line_by_polygon_df.columns = []\n",
    "    #     print(len(line_by_polygon))\n",
    "        line_by_polygon_df.to_csv(output_dir + '/' + file_name + '.csv', index = False)\n",
    "\n",
    "    #     break\n",
    "    end_time = time.time()\n",
    "    total_time = end_time - start_time\n",
    "    print('spatial intersection in Python takes ' + str(total_time) + ' sec')"
   ]
  },
  {
   "cell_type": "code",
   "execution_count": 5,
   "id": "0016aa27-32aa-42b0-ae04-4b2d52728adb",
   "metadata": {},
   "outputs": [
    {
     "data": {
      "text/html": [
       "<div>\n",
       "<style scoped>\n",
       "    .dataframe tbody tr th:only-of-type {\n",
       "        vertical-align: middle;\n",
       "    }\n",
       "\n",
       "    .dataframe tbody tr th {\n",
       "        vertical-align: top;\n",
       "    }\n",
       "\n",
       "    .dataframe thead th {\n",
       "        text-align: right;\n",
       "    }\n",
       "</style>\n",
       "<table border=\"1\" class=\"dataframe\">\n",
       "  <thead>\n",
       "    <tr style=\"text-align: right;\">\n",
       "      <th></th>\n",
       "      <th>source</th>\n",
       "      <th>destination</th>\n",
       "      <th>distance</th>\n",
       "      <th>GEOID</th>\n",
       "      <th>Length</th>\n",
       "    </tr>\n",
       "  </thead>\n",
       "  <tbody>\n",
       "    <tr>\n",
       "      <th>0</th>\n",
       "      <td>40143007407</td>\n",
       "      <td>40105172200</td>\n",
       "      <td>99326.245394</td>\n",
       "      <td>40143005900</td>\n",
       "      <td>10072.073880</td>\n",
       "    </tr>\n",
       "    <tr>\n",
       "      <th>1</th>\n",
       "      <td>40143007407</td>\n",
       "      <td>40105172300</td>\n",
       "      <td>83091.556274</td>\n",
       "      <td>40143005900</td>\n",
       "      <td>10072.073880</td>\n",
       "    </tr>\n",
       "    <tr>\n",
       "      <th>2</th>\n",
       "      <td>40143007407</td>\n",
       "      <td>40105172400</td>\n",
       "      <td>83826.376872</td>\n",
       "      <td>40143005900</td>\n",
       "      <td>10072.073880</td>\n",
       "    </tr>\n",
       "    <tr>\n",
       "      <th>3</th>\n",
       "      <td>40143007407</td>\n",
       "      <td>40113940002</td>\n",
       "      <td>109694.228375</td>\n",
       "      <td>40143005900</td>\n",
       "      <td>1325.930235</td>\n",
       "    </tr>\n",
       "    <tr>\n",
       "      <th>4</th>\n",
       "      <td>40143007407</td>\n",
       "      <td>40113940004</td>\n",
       "      <td>103867.863385</td>\n",
       "      <td>40143005900</td>\n",
       "      <td>1325.930235</td>\n",
       "    </tr>\n",
       "  </tbody>\n",
       "</table>\n",
       "</div>"
      ],
      "text/plain": [
       "        source  destination       distance        GEOID        Length\n",
       "0  40143007407  40105172200   99326.245394  40143005900  10072.073880\n",
       "1  40143007407  40105172300   83091.556274  40143005900  10072.073880\n",
       "2  40143007407  40105172400   83826.376872  40143005900  10072.073880\n",
       "3  40143007407  40113940002  109694.228375  40143005900   1325.930235\n",
       "4  40143007407  40113940004  103867.863385  40143005900   1325.930235"
      ]
     },
     "execution_count": 5,
     "metadata": {},
     "output_type": "execute_result"
    }
   ],
   "source": [
    "line_by_polygon_df.head(5)"
   ]
  },
  {
   "cell_type": "code",
   "execution_count": null,
   "id": "89a10049-4cfe-4014-a80b-fff4209a6624",
   "metadata": {},
   "outputs": [],
   "source": []
  }
 ],
 "metadata": {
  "kernelspec": {
   "display_name": "Python 3 (ipykernel)",
   "language": "python",
   "name": "python3"
  },
  "language_info": {
   "codemirror_mode": {
    "name": "ipython",
    "version": 3
   },
   "file_extension": ".py",
   "mimetype": "text/x-python",
   "name": "python",
   "nbconvert_exporter": "python",
   "pygments_lexer": "ipython3",
   "version": "3.8.8"
  }
 },
 "nbformat": 4,
 "nbformat_minor": 5
}
