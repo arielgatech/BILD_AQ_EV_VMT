{
 "cells": [
  {
   "cell_type": "code",
   "execution_count": 2,
   "id": "9abbd75a-c67c-415a-9bdb-99b04d7bd538",
   "metadata": {},
   "outputs": [],
   "source": [
    "import pandas as pd\n",
    "import os\n",
    "from pandas import read_csv\n",
    "from pandas import read_parquet\n",
    "import matplotlib.pyplot as plt\n",
    "import seaborn as sns\n",
    "import warnings\n",
    "import numpy as np\n",
    "import pyarrow\n",
    "import fastparquet\n",
    "from datetime import datetime, timezone, timedelta\n",
    "import scipy.stats as s\n",
    "\n",
    "warnings.filterwarnings(\"ignore\")\n",
    "\n",
    "work_dir = '/Users/xiaodanxu/Library/CloudStorage/GoogleDrive-arielinseu@gmail.com/My Drive/GEMS/data/INRIX'\n",
    "os.chdir(work_dir)\n",
    "\n",
    "selected_state = 'NY'\n",
    "plt.style.use('ggplot')\n",
    "sns.set(font_scale=1.2)  # larger font\n",
    "meter_to_mile = 0.000621371"
   ]
  },
  {
   "cell_type": "code",
   "execution_count": 3,
   "id": "229f9325-f391-4156-96df-60de46e9ba1a",
   "metadata": {},
   "outputs": [],
   "source": [
    "# data process function\n",
    "def inrix_data_cleaning(data):\n",
    "    \n",
    "    # data filtering & cleaning\n",
    "    data = data.loc[data['mode'] == 1] # vehicle\n",
    "    data = data.loc[data['movement_type'] == 1] # moving trips\n",
    "    data = data.loc[data['vehicle_weight_class'] == 1] # LDVs\n",
    "    data = data.dropna(subset = ['start_cbg', 'end_cbg']) \n",
    "    \n",
    "    # generate time-related attributes\n",
    "    tz = data.start_tz.unique()[0]\n",
    "#     print(tz)\n",
    "    data.loc[:, 'start_date'] = data.loc[:, 'start_date'].str.split('.').str[0]\n",
    "    data.loc[:, 'end_date'] = data.loc[:, 'end_date'].str.split('.').str[0]\n",
    "\n",
    "    data['start_time'] = \\\n",
    "    pd.to_datetime(data['start_date'].astype(str), format='%Y-%m-%dT%H:%M:%S')\n",
    "    data['start_time'] = data['start_time'].dt.tz_localize('utc').dt.tz_convert(tz)\n",
    "\n",
    "    data['end_time'] = \\\n",
    "    pd.to_datetime(data['end_date'].astype(str), format='%Y-%m-%dT%H:%M:%S')\n",
    "    data['end_time'] = data['end_time'].dt.tz_localize('utc').dt.tz_convert(tz)\n",
    "    data.loc[:, 'start_hour'] = \\\n",
    "    data.loc[:, 'start_time'].dt.hour\n",
    "    data.loc[:, 'end_hour'] = \\\n",
    "    data.loc[:, 'end_time'].dt.hour\n",
    "    data.loc[:, 'travel_time'] = data.loc[:, 'end_time'] - data.loc[:, 'start_time'] \n",
    "    \n",
    "    # generate travel impedance\n",
    "    data.loc[:, 'travel_time_h'] =  data.loc[:, 'travel_time']/ pd.Timedelta(hours=1)\n",
    "    data.loc[:, 'trip_distance_mile'] = data.loc[:, 'trip_distance_m'] * meter_to_mile\n",
    "    \n",
    "    # generate O-D info\n",
    "    data.loc[:, ['start_cbg', 'end_cbg']] = data.loc[:, ['start_cbg', 'end_cbg']].astype(int)\n",
    "    data.loc[:, 'o_GEOID'] = data.loc[:, 'start_cbg'] / 10\n",
    "    data.loc[:, 'd_GEOID'] = data.loc[:, 'end_cbg'] / 10\n",
    "    data.loc[:, ['o_GEOID', 'd_GEOID']] = data.loc[:, ['o_GEOID', 'd_GEOID']].astype(int)\n",
    "    return(data)"
   ]
  },
  {
   "cell_type": "code",
   "execution_count": 3,
   "id": "003124da-c941-4b97-967e-25f66d70327c",
   "metadata": {},
   "outputs": [
    {
     "name": "stdout",
     "output_type": "stream",
     "text": [
      "inrix.trips.20200106.ny\n",
      "inrix.trips.20200122.ny\n",
      "inrix.trips.20200116.ny\n",
      "inrix.trips.20200112.ny\n",
      "inrix.trips.20200126.ny\n",
      "inrix.trips.20200113.ny\n",
      "inrix.trips.20200127.ny\n",
      "inrix.trips.20200107.ny\n",
      "inrix.trips.20200123.ny\n",
      "inrix.trips.20200117.ny\n",
      "inrix.trips.20200128.ny\n",
      "inrix.trips.20200108.ny\n",
      "inrix.trips.20200118.ny\n",
      "inrix.trips.20200109.ny\n",
      "inrix.trips.20200119.ny\n",
      "inrix.trips.20200129.ny\n",
      "inrix.trips.20200110.ny\n",
      "inrix.trips.20200124.ny\n",
      "inrix.trips.20200130.ny\n",
      "inrix.trips.20200120.ny\n",
      "inrix.trips.20200114.ny\n",
      "inrix.trips.20200131.ny\n",
      "inrix.trips.20200121.ny\n",
      "inrix.trips.20200115.ny\n",
      "inrix.trips.20200111.ny\n",
      "inrix.trips.20200125.ny\n",
      "37211443\n"
     ]
    },
    {
     "data": {
      "text/html": [
       "<div>\n",
       "<style scoped>\n",
       "    .dataframe tbody tr th:only-of-type {\n",
       "        vertical-align: middle;\n",
       "    }\n",
       "\n",
       "    .dataframe tbody tr th {\n",
       "        vertical-align: top;\n",
       "    }\n",
       "\n",
       "    .dataframe thead th {\n",
       "        text-align: right;\n",
       "    }\n",
       "</style>\n",
       "<table border=\"1\" class=\"dataframe\">\n",
       "  <thead>\n",
       "    <tr style=\"text-align: right;\">\n",
       "      <th></th>\n",
       "      <th>o_GEOID</th>\n",
       "      <th>d_GEOID</th>\n",
       "      <th>travel_time_h</th>\n",
       "      <th>trip_distance_mile</th>\n",
       "      <th>trip_count</th>\n",
       "    </tr>\n",
       "  </thead>\n",
       "  <tbody>\n",
       "    <tr>\n",
       "      <th>0</th>\n",
       "      <td>36001000100</td>\n",
       "      <td>25003934200</td>\n",
       "      <td>0.621944</td>\n",
       "      <td>32.532289</td>\n",
       "      <td>1</td>\n",
       "    </tr>\n",
       "    <tr>\n",
       "      <th>1</th>\n",
       "      <td>36001000100</td>\n",
       "      <td>36001000100</td>\n",
       "      <td>1.649167</td>\n",
       "      <td>24.409231</td>\n",
       "      <td>11</td>\n",
       "    </tr>\n",
       "    <tr>\n",
       "      <th>2</th>\n",
       "      <td>36001000100</td>\n",
       "      <td>36001000200</td>\n",
       "      <td>0.674722</td>\n",
       "      <td>5.096603</td>\n",
       "      <td>4</td>\n",
       "    </tr>\n",
       "    <tr>\n",
       "      <th>3</th>\n",
       "      <td>36001000100</td>\n",
       "      <td>36001000300</td>\n",
       "      <td>1.710833</td>\n",
       "      <td>12.587073</td>\n",
       "      <td>4</td>\n",
       "    </tr>\n",
       "    <tr>\n",
       "      <th>4</th>\n",
       "      <td>36001000100</td>\n",
       "      <td>36001000403</td>\n",
       "      <td>0.196667</td>\n",
       "      <td>5.710987</td>\n",
       "      <td>1</td>\n",
       "    </tr>\n",
       "  </tbody>\n",
       "</table>\n",
       "</div>"
      ],
      "text/plain": [
       "       o_GEOID      d_GEOID  travel_time_h  trip_distance_mile  trip_count\n",
       "0  36001000100  25003934200       0.621944           32.532289           1\n",
       "1  36001000100  36001000100       1.649167           24.409231          11\n",
       "2  36001000100  36001000200       0.674722            5.096603           4\n",
       "3  36001000100  36001000300       1.710833           12.587073           4\n",
       "4  36001000100  36001000403       0.196667            5.710987           1"
      ]
     },
     "execution_count": 3,
     "metadata": {},
     "output_type": "execute_result"
    }
   ],
   "source": [
    "# bildaq_od_data = read_csv('Output/' + selected_state+ '/OD_summary_with_routed_distance.csv')\n",
    "list_of_inrix_folder = os.listdir(selected_state + '_trips')\n",
    "inrix_trip_out = None\n",
    "out_attr = ['trip_id', 'o_GEOID', 'd_GEOID', 'travel_time_h', 'trip_distance_mile']\n",
    "\n",
    "for folder in list_of_inrix_folder:\n",
    "    if folder == '.DS_Store':\n",
    "        continue\n",
    "    print(folder)\n",
    "    list_of_inrix_trips = os.listdir(selected_state + '_trips/' + folder)\n",
    "    trip_dir = selected_state + '_trips/' + folder\n",
    "    for file in list_of_inrix_trips:\n",
    "        if file.endswith('.parquet'):\n",
    "#             print(file)\n",
    "            inrix_trips = read_parquet(trip_dir + '/' + file, engine = 'auto')\n",
    "            inrix_trips = inrix_data_cleaning(inrix_trips)\n",
    "            inrix_trips = inrix_trips[out_attr]\n",
    "            \n",
    "            # generate skims\n",
    "            od_skim = inrix_trips.groupby(['o_GEOID', 'd_GEOID']).agg({'travel_time_h':'sum', \n",
    "                                                                       'trip_distance_mile':'sum',\n",
    "                                                                       'trip_id':'count'})\n",
    "            od_skim = od_skim.reset_index()\n",
    "            od_skim.columns = ['o_GEOID', 'd_GEOID', 'travel_time_h', 'trip_distance_mile', 'trip_count']\n",
    "            inrix_trip_out = pd.concat([inrix_trip_out, od_skim])            \n",
    "#         break\n",
    "#     break\n",
    "print(len(inrix_trip_out))\n",
    "inrix_trip_out.head(5)\n"
   ]
  },
  {
   "cell_type": "code",
   "execution_count": 4,
   "id": "c6087fd8-7ad0-4da9-b220-f4071efeb56c",
   "metadata": {},
   "outputs": [
    {
     "name": "stdout",
     "output_type": "stream",
     "text": [
      "4258994\n",
      "100515223\n"
     ]
    },
    {
     "data": {
      "text/html": [
       "<div>\n",
       "<style scoped>\n",
       "    .dataframe tbody tr th:only-of-type {\n",
       "        vertical-align: middle;\n",
       "    }\n",
       "\n",
       "    .dataframe tbody tr th {\n",
       "        vertical-align: top;\n",
       "    }\n",
       "\n",
       "    .dataframe thead th {\n",
       "        text-align: right;\n",
       "    }\n",
       "</style>\n",
       "<table border=\"1\" class=\"dataframe\">\n",
       "  <thead>\n",
       "    <tr style=\"text-align: right;\">\n",
       "      <th></th>\n",
       "      <th>o_GEOID</th>\n",
       "      <th>d_GEOID</th>\n",
       "      <th>distance_mile</th>\n",
       "      <th>travel_time_h</th>\n",
       "      <th>trip_count</th>\n",
       "    </tr>\n",
       "  </thead>\n",
       "  <tbody>\n",
       "    <tr>\n",
       "      <th>0</th>\n",
       "      <td>36001000100</td>\n",
       "      <td>9001110302</td>\n",
       "      <td>122.809417</td>\n",
       "      <td>2.365556</td>\n",
       "      <td>1</td>\n",
       "    </tr>\n",
       "    <tr>\n",
       "      <th>1</th>\n",
       "      <td>36001000100</td>\n",
       "      <td>9001245400</td>\n",
       "      <td>124.170870</td>\n",
       "      <td>2.246944</td>\n",
       "      <td>1</td>\n",
       "    </tr>\n",
       "    <tr>\n",
       "      <th>2</th>\n",
       "      <td>36001000100</td>\n",
       "      <td>9003487100</td>\n",
       "      <td>99.878717</td>\n",
       "      <td>1.680278</td>\n",
       "      <td>1</td>\n",
       "    </tr>\n",
       "    <tr>\n",
       "      <th>3</th>\n",
       "      <td>36001000100</td>\n",
       "      <td>9003496300</td>\n",
       "      <td>222.230271</td>\n",
       "      <td>4.104722</td>\n",
       "      <td>2</td>\n",
       "    </tr>\n",
       "    <tr>\n",
       "      <th>4</th>\n",
       "      <td>36001000100</td>\n",
       "      <td>9009175600</td>\n",
       "      <td>125.689002</td>\n",
       "      <td>2.423056</td>\n",
       "      <td>1</td>\n",
       "    </tr>\n",
       "  </tbody>\n",
       "</table>\n",
       "</div>"
      ],
      "text/plain": [
       "       o_GEOID     d_GEOID  distance_mile  travel_time_h  trip_count\n",
       "0  36001000100  9001110302     122.809417       2.365556           1\n",
       "1  36001000100  9001245400     124.170870       2.246944           1\n",
       "2  36001000100  9003487100      99.878717       1.680278           1\n",
       "3  36001000100  9003496300     222.230271       4.104722           2\n",
       "4  36001000100  9009175600     125.689002       2.423056           1"
      ]
     },
     "execution_count": 4,
     "metadata": {},
     "output_type": "execute_result"
    }
   ],
   "source": [
    "# generate travel time and distance skim\n",
    "\n",
    "# inrix_trip_out.loc[:, 'travel_time_h'].head(5)\n",
    "travel_time_by_od = inrix_trip_out.groupby(['o_GEOID', 'd_GEOID'])[['trip_distance_mile', \n",
    "                                                                    'travel_time_h', 'trip_count']].sum()\n",
    "travel_time_by_od = travel_time_by_od.reset_index()\n",
    "# travel_time_by_od.loc[:, 'trip_distance_m'] *= meter_to_mile\n",
    "\n",
    "travel_time_by_od.columns = ['o_GEOID', 'd_GEOID', 'distance_mile', 'travel_time_h', 'trip_count']\n",
    "print(len(travel_time_by_od))\n",
    "print(travel_time_by_od.trip_count.sum())\n",
    "travel_time_by_od.head(5)\n",
    "# travel_time_by_od.to_csv('Skim/CA_travel_time.csv')"
   ]
  },
  {
   "cell_type": "code",
   "execution_count": 5,
   "id": "33a7c873-09ca-494b-8f5b-06808d3cd3fc",
   "metadata": {},
   "outputs": [],
   "source": [
    "travel_time_by_od.loc[:, 'distance_mile'] = travel_time_by_od.loc[:, 'distance_mile'] / travel_time_by_od.loc[:, 'trip_count']\n",
    "travel_time_by_od.loc[:, 'travel_time_h'] = travel_time_by_od.loc[:, 'travel_time_h'] / travel_time_by_od.loc[:, 'trip_count']\n",
    "\n",
    "travel_time_by_od.to_csv('Skim/' + selected_state + '_travel_time.csv', index = False)"
   ]
  },
  {
   "cell_type": "code",
   "execution_count": 4,
   "id": "68618c88-c62b-4326-95fb-37271746b3c1",
   "metadata": {},
   "outputs": [
    {
     "name": "stdout",
     "output_type": "stream",
     "text": [
      "inrix.trips.20200106.ny\n",
      "890701\n"
     ]
    },
    {
     "data": {
      "text/plain": [
       "(0.0, 2.0)"
      ]
     },
     "execution_count": 4,
     "metadata": {},
     "output_type": "execute_result"
    },
    {
     "data": {
      "image/png": "[encoded data removed]",
      "text/plain": [
       "<Figure size 432x288 with 1 Axes>"
      ]
     },
     "metadata": {},
     "output_type": "display_data"
    }
   ],
   "source": [
    "# fit survival function for travel time\n",
    "#sns.histplot(data=inrix_trip_out, x=\"travel_time_h\", bins=30)\n",
    "\n",
    "list_of_inrix_folder = os.listdir(selected_state + '_trips')\n",
    "inrix_trip_out = None\n",
    "out_attr = ['trip_id', 'o_GEOID', 'd_GEOID', 'travel_time_h', 'trip_distance_mile']\n",
    "\n",
    "for folder in list_of_inrix_folder:\n",
    "    if folder == '.DS_Store':\n",
    "        continue\n",
    "    print(folder)\n",
    "    list_of_inrix_trips = os.listdir(selected_state + '_trips/' + folder)\n",
    "    trip_dir = selected_state + '_trips/' + folder\n",
    "    for file in list_of_inrix_trips:\n",
    "        if file.endswith('.parquet'):\n",
    "#             print(file)\n",
    "            inrix_trips = read_parquet(trip_dir + '/' + file, engine = 'auto')\n",
    "            sample_inrix_trip_out = inrix_data_cleaning(inrix_trips)\n",
    "            sample_inrix_trip_out = sample_inrix_trip_out[out_attr]\n",
    "                     \n",
    "        break\n",
    "    break\n",
    "print(len(sample_inrix_trip_out))\n",
    "sample_inrix_trip_out.head(5)\n",
    "sample_inrix_trip_out['travel_time_h'].plot(kind = 'hist',bins = 500)\n",
    "plt.xlabel('travel time (h)')\n",
    "plt.xlim([0, 2])"
   ]
  },
  {
   "cell_type": "code",
   "execution_count": 5,
   "id": "3d202244-34f9-4e4b-a1cc-41215fd22af9",
   "metadata": {},
   "outputs": [
    {
     "name": "stdout",
     "output_type": "stream",
     "text": [
      "(1, 1.1430665433952987, 0, 0.35175684962800324)\n",
      "shape: 1.1430665433952987\n",
      "scale: 0.35175684962800324\n"
     ]
    }
   ],
   "source": [
    "params = s.exponweib.fit(sample_inrix_trip_out['travel_time_h'], floc=0, f0=1)\n",
    "shape = params[1]\n",
    "scale = params[3]\n",
    "print(params)\n",
    "print('shape:', shape)\n",
    "print('scale:',scale)"
   ]
  },
  {
   "cell_type": "code",
   "execution_count": 7,
   "id": "371b1a3a-217d-4403-b831-dbfd7cf4d1fe",
   "metadata": {},
   "outputs": [
    {
     "data": {
      "image/png": "[encoded data removed]",
      "text/plain": [
       "<Figure size 432x288 with 1 Axes>"
      ]
     },
     "metadata": {},
     "output_type": "display_data"
    }
   ],
   "source": [
    "values,bins,hist = plt.hist(sample_inrix_trip_out['travel_time_h'],bins=50, range=(0,2), density = True)\n",
    "center = (bins[:-1] + bins[1:]) / 2.\n",
    "\n",
    "# Using all params and the stats function\n",
    "plt.plot(center,s.exponweib.pdf(center,*params),lw=4,label='Weibull pdf')\n",
    "# plt.plot(center,s.exponweib.sf(center,*params),lw=4,label='survival function')\n",
    "plt.xlabel('travel time (h)')\n",
    "plt.legend()\n",
    "plt.savefig('Plot/' + selected_state+ '/fitted_travel_time_curve.png', dpi = 300)"
   ]
  },
  {
   "cell_type": "code",
   "execution_count": 7,
   "id": "2d605926-d6e4-4ab4-ac9c-df469fdc4456",
   "metadata": {},
   "outputs": [
    {
     "name": "stdout",
     "output_type": "stream",
     "text": [
      "(1, 1.1883551257075007, 0, 0.34605314636038553)\n",
      "shape: 1.1883551257075007\n",
      "scale: 0.34605314636038553\n"
     ]
    }
   ],
   "source": [
    "#CA results for comparison\n",
    "params = s.exponweib.fit(sample_inrix_trip_out['travel_time_h'], floc=0, f0=1)\n",
    "shape = params[1]\n",
    "scale = params[3]\n",
    "print(params)\n",
    "print('shape:', shape)\n",
    "print('scale:',scale)"
   ]
  },
  {
   "cell_type": "code",
   "execution_count": 9,
   "id": "59782870-e82f-4536-a251-4cd5ab237089",
   "metadata": {},
   "outputs": [
    {
     "data": {
      "image/png": "[encoded data removed]",
      "text/plain": [
       "<Figure size 432x288 with 1 Axes>"
      ]
     },
     "metadata": {},
     "output_type": "display_data"
    }
   ],
   "source": [
    "values,bins,hist = plt.hist(sample_inrix_trip_out['travel_time_h'],bins=50, range=(0,2), density = True)\n",
    "center = (bins[:-1] + bins[1:]) / 2.\n",
    "\n",
    "# Using all params and the stats function\n",
    "plt.plot(center,s.exponweib.pdf(center,*params),lw=4,label='Weibull pdf')\n",
    "# plt.plot(center,s.exponweib.sf(center,*params),lw=4,label='survival function')\n",
    "plt.xlabel('travel time (h)')\n",
    "plt.legend()\n",
    "plt.savefig('Plot/' + selected_state+ '/fitted_travel_time_curve.png', dpi = 300)"
   ]
  },
  {
   "cell_type": "code",
   "execution_count": null,
   "id": "535cb2ee-0933-44ae-a50c-8f9707e82f13",
   "metadata": {},
   "outputs": [],
   "source": []
  }
 ],
 "metadata": {
  "kernelspec": {
   "display_name": "Python 3 (ipykernel)",
   "language": "python",
   "name": "python3"
  },
  "language_info": {
   "codemirror_mode": {
    "name": "ipython",
    "version": 3
   },
   "file_extension": ".py",
   "mimetype": "text/x-python",
   "name": "python",
   "nbconvert_exporter": "python",
   "pygments_lexer": "ipython3",
   "version": "3.8.8"
  }
 },
 "nbformat": 4,
 "nbformat_minor": 5
}
