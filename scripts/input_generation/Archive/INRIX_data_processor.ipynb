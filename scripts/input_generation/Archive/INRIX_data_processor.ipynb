{
 "cells": [
  {
   "cell_type": "code",
   "execution_count": 1,
   "id": "9abbd75a-c67c-415a-9bdb-99b04d7bd538",
   "metadata": {},
   "outputs": [],
   "source": [
    "# load necessary packages\n",
    "import pandas as pd\n",
    "import os\n",
    "from pandas import read_csv\n",
    "from pandas import read_parquet\n",
    "import matplotlib.pyplot as plt\n",
    "import seaborn as sns\n",
    "import warnings\n",
    "import numpy as np\n",
    "import pyarrow\n",
    "import fastparquet\n",
    "from datetime import datetime, timezone, timedelta\n",
    "import scipy.stats as s\n",
    "\n",
    "warnings.filterwarnings(\"ignore\")\n",
    "plt.style.use('ggplot')\n",
    "sns.set(font_scale=1.2)  # larger font\n",
    "\n",
    "\n",
    "# define data directory\n",
    "work_dir = '/Users/xiaodanxu/Library/CloudStorage/GoogleDrive-arielinseu@gmail.com/My Drive/GEMS/data/INRIX'\n",
    "os.chdir(work_dir)\n",
    "\n",
    "# define states to pull data from\n",
    "selected_state = 'CA'\n",
    "\n",
    "# define unit conversion factor\n",
    "meter_to_mile = 0.000621371"
   ]
  },
  {
   "cell_type": "code",
   "execution_count": 3,
   "id": "229f9325-f391-4156-96df-60de46e9ba1a",
   "metadata": {},
   "outputs": [],
   "source": [
    "# data process function\n",
    "def inrix_data_cleaning(data):\n",
    "    \n",
    "    # data filtering & cleaning\n",
    "    data = data.loc[data['mode'] == 1] # vehicle (not walking mode) \n",
    "    data = data.loc[data['movement_type'] == 1] # moving trips\n",
    "#     data = data.loc[data['vehicle_weight_class'] == 1] # LDVs\n",
    "    data = data.dropna(subset = ['start_cbg', 'end_cbg']) # drop trips with unknown O-D\n",
    "    \n",
    "    # generate time-related attributes\n",
    "    tz = data.start_tz.unique()[0]\n",
    "#     print(tz)\n",
    "    data.loc[:, 'start_date'] = data.loc[:, 'start_date'].str.split('.').str[0]\n",
    "    data.loc[:, 'end_date'] = data.loc[:, 'end_date'].str.split('.').str[0]\n",
    "\n",
    "    data['start_time'] = \\\n",
    "    pd.to_datetime(data['start_date'].astype(str), format='%Y-%m-%dT%H:%M:%S')\n",
    "    data['start_time'] = data['start_time'].dt.tz_localize('utc').dt.tz_convert(tz)\n",
    "\n",
    "    data['end_time'] = \\\n",
    "    pd.to_datetime(data['end_date'].astype(str), format='%Y-%m-%dT%H:%M:%S')\n",
    "    data['end_time'] = data['end_time'].dt.tz_localize('utc').dt.tz_convert(tz)\n",
    "    data.loc[:, 'start_hour'] = \\\n",
    "    data.loc[:, 'start_time'].dt.hour\n",
    "    data.loc[:, 'end_hour'] = \\\n",
    "    data.loc[:, 'end_time'].dt.hour\n",
    "    data.loc[:, 'dayofweek'] = \\\n",
    "    data.loc[:, 'start_time'].dt.dayofweek\n",
    "    data = data.loc[data['dayofweek']<= 4] # select only weekday data\n",
    "    data.loc[:, 'travel_time'] = data.loc[:, 'end_time'] - data.loc[:, 'start_time'] \n",
    "    \n",
    "    # generate travel impedance\n",
    "    data.loc[:, 'travel_time_h'] =  data.loc[:, 'travel_time']/ pd.Timedelta(hours=1)\n",
    "    data.loc[:, 'trip_distance_mile'] = data.loc[:, 'trip_distance_m'] * meter_to_mile\n",
    "    \n",
    "    # generate O-D info\n",
    "    data.loc[:, ['start_cbg', 'end_cbg']] = data.loc[:, ['start_cbg', 'end_cbg']].astype(int)\n",
    "    data.loc[:, 'o_GEOID'] = data.loc[:, 'start_cbg'] / 10\n",
    "    data.loc[:, 'd_GEOID'] = data.loc[:, 'end_cbg'] / 10\n",
    "    data.loc[:, ['o_GEOID', 'd_GEOID']] = data.loc[:, ['o_GEOID', 'd_GEOID']].astype(int)\n",
    "    return(data)"
   ]
  },
  {
   "cell_type": "code",
   "execution_count": 5,
   "id": "003124da-c941-4b97-967e-25f66d70327c",
   "metadata": {},
   "outputs": [
    {
     "name": "stdout",
     "output_type": "stream",
     "text": [
      "inrix.trips.20200121.ca\n",
      "inrix.trips.20200115.ca\n",
      "inrix.trips.20200124.ca\n",
      "inrix.trips.20200120.ca\n",
      "inrix.trips.20200114.ca\n",
      "inrix.trips.20200119.ca\n",
      "inrix.trips.20200118.ca\n",
      "inrix.trips.20200113.ca\n",
      "inrix.trips.20200123.ca\n",
      "inrix.trips.20200117.ca\n",
      "inrix.trips.20200122.ca\n",
      "inrix.trips.20200116.ca\n",
      "79301181\n"
     ]
    },
    {
     "data": {
      "text/html": [
       "<div>\n",
       "<style scoped>\n",
       "    .dataframe tbody tr th:only-of-type {\n",
       "        vertical-align: middle;\n",
       "    }\n",
       "\n",
       "    .dataframe tbody tr th {\n",
       "        vertical-align: top;\n",
       "    }\n",
       "\n",
       "    .dataframe thead th {\n",
       "        text-align: right;\n",
       "    }\n",
       "</style>\n",
       "<table border=\"1\" class=\"dataframe\">\n",
       "  <thead>\n",
       "    <tr style=\"text-align: right;\">\n",
       "      <th></th>\n",
       "      <th>o_GEOID</th>\n",
       "      <th>d_GEOID</th>\n",
       "      <th>vehicle_weight_class</th>\n",
       "      <th>start_hour</th>\n",
       "      <th>travel_time_h</th>\n",
       "      <th>trip_distance_mile</th>\n",
       "      <th>trip_count</th>\n",
       "    </tr>\n",
       "  </thead>\n",
       "  <tbody>\n",
       "    <tr>\n",
       "      <th>0</th>\n",
       "      <td>6001400100</td>\n",
       "      <td>6001400100</td>\n",
       "      <td>1</td>\n",
       "      <td>7</td>\n",
       "      <td>0.403333</td>\n",
       "      <td>10.358814</td>\n",
       "      <td>1</td>\n",
       "    </tr>\n",
       "    <tr>\n",
       "      <th>1</th>\n",
       "      <td>6001400100</td>\n",
       "      <td>6001400100</td>\n",
       "      <td>1</td>\n",
       "      <td>8</td>\n",
       "      <td>0.576944</td>\n",
       "      <td>7.997448</td>\n",
       "      <td>2</td>\n",
       "    </tr>\n",
       "    <tr>\n",
       "      <th>2</th>\n",
       "      <td>6001400100</td>\n",
       "      <td>6001400100</td>\n",
       "      <td>1</td>\n",
       "      <td>12</td>\n",
       "      <td>0.910556</td>\n",
       "      <td>25.158734</td>\n",
       "      <td>1</td>\n",
       "    </tr>\n",
       "    <tr>\n",
       "      <th>3</th>\n",
       "      <td>6001400100</td>\n",
       "      <td>6001400200</td>\n",
       "      <td>1</td>\n",
       "      <td>7</td>\n",
       "      <td>0.365278</td>\n",
       "      <td>5.379511</td>\n",
       "      <td>1</td>\n",
       "    </tr>\n",
       "    <tr>\n",
       "      <th>4</th>\n",
       "      <td>6001400100</td>\n",
       "      <td>6001400200</td>\n",
       "      <td>1</td>\n",
       "      <td>8</td>\n",
       "      <td>0.163333</td>\n",
       "      <td>2.283169</td>\n",
       "      <td>1</td>\n",
       "    </tr>\n",
       "  </tbody>\n",
       "</table>\n",
       "</div>"
      ],
      "text/plain": [
       "      o_GEOID     d_GEOID  vehicle_weight_class  start_hour  travel_time_h  \\\n",
       "0  6001400100  6001400100                     1           7       0.403333   \n",
       "1  6001400100  6001400100                     1           8       0.576944   \n",
       "2  6001400100  6001400100                     1          12       0.910556   \n",
       "3  6001400100  6001400200                     1           7       0.365278   \n",
       "4  6001400100  6001400200                     1           8       0.163333   \n",
       "\n",
       "   trip_distance_mile  trip_count  \n",
       "0           10.358814           1  \n",
       "1            7.997448           2  \n",
       "2           25.158734           1  \n",
       "3            5.379511           1  \n",
       "4            2.283169           1  "
      ]
     },
     "execution_count": 5,
     "metadata": {},
     "output_type": "execute_result"
    }
   ],
   "source": [
    "# processing INRIX data\n",
    "\n",
    "list_of_inrix_folder = os.listdir(selected_state + '_trips') \n",
    "# path to INRIX data folder, this needs to be updated if directory name changes\n",
    "inrix_trip_out = None\n",
    "\n",
    "# define variables to keep\n",
    "out_attr = ['trip_id', 'o_GEOID', 'd_GEOID', 'vehicle_weight_class', \n",
    "            'start_hour', 'travel_time_h', 'trip_distance_mile']\n",
    "\n",
    "group_var = ['o_GEOID', 'd_GEOID', 'vehicle_weight_class', 'start_hour']\n",
    "# loop through INRIX data folder and process each file\n",
    "for folder in list_of_inrix_folder: # each folder is one day's trip\n",
    "    if folder == '.DS_Store': # MAC system only, skip this file\n",
    "        continue\n",
    "    print(folder)\n",
    "    list_of_inrix_trips = os.listdir(selected_state + '_trips/' + folder)\n",
    "    trip_dir = selected_state + '_trips/' + folder\n",
    "    for file in list_of_inrix_trips: \n",
    "        # loop through trip files under daily trip folder\n",
    "        if file.endswith('.parquet'):\n",
    "            # load Parquet data\n",
    "            inrix_trips = read_parquet(trip_dir + '/' + file, engine = 'auto')\n",
    "            # clean and format data, generate travel attributes\n",
    "            inrix_trips = inrix_data_cleaning(inrix_trips)\n",
    "            # keep essential variables\n",
    "            inrix_trips = inrix_trips[out_attr]\n",
    "            \n",
    "            # generate skims\n",
    "            od_skim = \\\n",
    "            inrix_trips.groupby(group_var).agg({'travel_time_h':'sum',\n",
    "                                                'trip_distance_mile':'sum',\n",
    "                                                'trip_id':'count'})\n",
    "            od_skim = od_skim.reset_index()\n",
    "            od_skim.columns = ['o_GEOID', 'd_GEOID', 'vehicle_weight_class', 'start_hour', 'travel_time_h', 'trip_distance_mile', 'trip_count']\n",
    "            inrix_trip_out = pd.concat([inrix_trip_out, od_skim])            \n",
    "#         break\n",
    "#     break\n",
    "print(len(inrix_trip_out))\n",
    "inrix_trip_out.head(5)\n"
   ]
  },
  {
   "cell_type": "code",
   "execution_count": 6,
   "id": "c6087fd8-7ad0-4da9-b220-f4071efeb56c",
   "metadata": {},
   "outputs": [
    {
     "name": "stdout",
     "output_type": "stream",
     "text": [
      "21761130\n",
      "97374835\n"
     ]
    },
    {
     "data": {
      "text/html": [
       "<div>\n",
       "<style scoped>\n",
       "    .dataframe tbody tr th:only-of-type {\n",
       "        vertical-align: middle;\n",
       "    }\n",
       "\n",
       "    .dataframe tbody tr th {\n",
       "        vertical-align: top;\n",
       "    }\n",
       "\n",
       "    .dataframe thead th {\n",
       "        text-align: right;\n",
       "    }\n",
       "</style>\n",
       "<table border=\"1\" class=\"dataframe\">\n",
       "  <thead>\n",
       "    <tr style=\"text-align: right;\">\n",
       "      <th></th>\n",
       "      <th>o_GEOID</th>\n",
       "      <th>d_GEOID</th>\n",
       "      <th>vehicle_weight_class</th>\n",
       "      <th>start_hour</th>\n",
       "      <th>distance_mile</th>\n",
       "      <th>travel_time_h</th>\n",
       "      <th>trip_count</th>\n",
       "    </tr>\n",
       "  </thead>\n",
       "  <tbody>\n",
       "    <tr>\n",
       "      <th>0</th>\n",
       "      <td>6001400100</td>\n",
       "      <td>6001400100</td>\n",
       "      <td>1</td>\n",
       "      <td>0</td>\n",
       "      <td>14.838246</td>\n",
       "      <td>0.733056</td>\n",
       "      <td>2</td>\n",
       "    </tr>\n",
       "    <tr>\n",
       "      <th>1</th>\n",
       "      <td>6001400100</td>\n",
       "      <td>6001400100</td>\n",
       "      <td>1</td>\n",
       "      <td>4</td>\n",
       "      <td>31.644015</td>\n",
       "      <td>1.119167</td>\n",
       "      <td>3</td>\n",
       "    </tr>\n",
       "    <tr>\n",
       "      <th>2</th>\n",
       "      <td>6001400100</td>\n",
       "      <td>6001400100</td>\n",
       "      <td>1</td>\n",
       "      <td>5</td>\n",
       "      <td>68.881253</td>\n",
       "      <td>2.905278</td>\n",
       "      <td>7</td>\n",
       "    </tr>\n",
       "    <tr>\n",
       "      <th>3</th>\n",
       "      <td>6001400100</td>\n",
       "      <td>6001400100</td>\n",
       "      <td>1</td>\n",
       "      <td>6</td>\n",
       "      <td>6.287118</td>\n",
       "      <td>1.141389</td>\n",
       "      <td>6</td>\n",
       "    </tr>\n",
       "    <tr>\n",
       "      <th>4</th>\n",
       "      <td>6001400100</td>\n",
       "      <td>6001400100</td>\n",
       "      <td>1</td>\n",
       "      <td>7</td>\n",
       "      <td>285.969033</td>\n",
       "      <td>17.467222</td>\n",
       "      <td>58</td>\n",
       "    </tr>\n",
       "  </tbody>\n",
       "</table>\n",
       "</div>"
      ],
      "text/plain": [
       "      o_GEOID     d_GEOID  vehicle_weight_class  start_hour  distance_mile  \\\n",
       "0  6001400100  6001400100                     1           0      14.838246   \n",
       "1  6001400100  6001400100                     1           4      31.644015   \n",
       "2  6001400100  6001400100                     1           5      68.881253   \n",
       "3  6001400100  6001400100                     1           6       6.287118   \n",
       "4  6001400100  6001400100                     1           7     285.969033   \n",
       "\n",
       "   travel_time_h  trip_count  \n",
       "0       0.733056           2  \n",
       "1       1.119167           3  \n",
       "2       2.905278           7  \n",
       "3       1.141389           6  \n",
       "4      17.467222          58  "
      ]
     },
     "execution_count": 6,
     "metadata": {},
     "output_type": "execute_result"
    }
   ],
   "source": [
    "# generate travel time and distance skim\n",
    "group_var = ['o_GEOID', 'd_GEOID', 'vehicle_weight_class', 'start_hour']\n",
    "\n",
    "# aggregate travel skims from different days and trip files\n",
    "travel_time_by_od = inrix_trip_out.groupby(group_var)[['trip_distance_mile', \n",
    "                                                       'travel_time_h', 'trip_count']].sum()\n",
    "travel_time_by_od = travel_time_by_od.reset_index()\n",
    "\n",
    "travel_time_by_od.columns = ['o_GEOID', 'd_GEOID', 'vehicle_weight_class', \n",
    "                             'start_hour', 'distance_mile', 'travel_time_h', 'trip_count']\n",
    "print(len(travel_time_by_od))\n",
    "print(travel_time_by_od.trip_count.sum())\n",
    "travel_time_by_od.head(5)\n"
   ]
  },
  {
   "cell_type": "code",
   "execution_count": 7,
   "id": "33a7c873-09ca-494b-8f5b-06808d3cd3fc",
   "metadata": {},
   "outputs": [],
   "source": [
    "# generate avg. travel time/dist per trip and writing output\n",
    "output_dir = 'Skim/' # directory to output skims, can be changed\n",
    "travel_time_by_od.loc[:, 'distance_mile'] = travel_time_by_od.loc[:, 'distance_mile'] / travel_time_by_od.loc[:, 'trip_count']\n",
    "travel_time_by_od.loc[:, 'travel_time_h'] = travel_time_by_od.loc[:, 'travel_time_h'] / travel_time_by_od.loc[:, 'trip_count']\n",
    "\n",
    "travel_time_by_od.to_csv(output_dir + selected_state + '_travel_time.csv', index = False)"
   ]
  },
  {
   "cell_type": "code",
   "execution_count": 8,
   "id": "68618c88-c62b-4326-95fb-37271746b3c1",
   "metadata": {},
   "outputs": [
    {
     "name": "stdout",
     "output_type": "stream",
     "text": [
      "inrix.trips.20200121.ca\n",
      "930910\n"
     ]
    },
    {
     "data": {
      "text/plain": [
       "(0.0, 2.0)"
      ]
     },
     "execution_count": 8,
     "metadata": {},
     "output_type": "execute_result"
    },
    {
     "data": {
      "image/png": "[encoded data removed]",
      "text/plain": [
       "<Figure size 432x288 with 1 Axes>"
      ]
     },
     "metadata": {},
     "output_type": "display_data"
    }
   ],
   "source": [
    "# fit survival function for travel time\n",
    "\n",
    "list_of_inrix_folder = os.listdir(selected_state + '_trips')\n",
    "inrix_trip_out = None\n",
    "out_attr = ['trip_id', 'o_GEOID', 'd_GEOID', 'travel_time_h', 'trip_distance_mile']\n",
    "\n",
    "for folder in list_of_inrix_folder:\n",
    "    if folder == '.DS_Store':\n",
    "        continue\n",
    "    print(folder)\n",
    "    list_of_inrix_trips = os.listdir(selected_state + '_trips/' + folder)\n",
    "    trip_dir = selected_state + '_trips/' + folder\n",
    "    for file in list_of_inrix_trips:\n",
    "        if file.endswith('.parquet'):\n",
    "#             print(file)\n",
    "            inrix_trips = read_parquet(trip_dir + '/' + file, engine = 'auto')\n",
    "            sample_inrix_trip_out = inrix_data_cleaning(inrix_trips)\n",
    "            sample_inrix_trip_out = \\\n",
    "            sample_inrix_trip_out.loc[sample_inrix_trip_out['vehicle_weight_class'] == 1] # LDVs\n",
    "            sample_inrix_trip_out = sample_inrix_trip_out[out_attr]\n",
    "                     \n",
    "        break\n",
    "    break\n",
    "print(len(sample_inrix_trip_out))\n",
    "sample_inrix_trip_out.head(5)\n",
    "sample_inrix_trip_out['travel_time_h'].plot(kind = 'hist',bins = 500)\n",
    "plt.xlabel('travel time (h)')\n",
    "plt.xlim([0, 2])"
   ]
  },
  {
   "cell_type": "code",
   "execution_count": 4,
   "id": "3d202244-34f9-4e4b-a1cc-41215fd22af9",
   "metadata": {},
   "outputs": [
    {
     "name": "stdout",
     "output_type": "stream",
     "text": [
      "(1, 1.1603505204251645, 0, 0.34345185900749187)\n",
      "shape: 1.1603505204251645\n",
      "scale: 0.34345185900749187\n"
     ]
    }
   ],
   "source": [
    "params = s.exponweib.fit(sample_inrix_trip_out['travel_time_h'], floc=0, f0=1)\n",
    "shape = params[1]\n",
    "scale = params[3]\n",
    "print(params)\n",
    "print('shape:', shape)\n",
    "print('scale:',scale)"
   ]
  },
  {
   "cell_type": "code",
   "execution_count": 10,
   "id": "371b1a3a-217d-4403-b831-dbfd7cf4d1fe",
   "metadata": {},
   "outputs": [
    {
     "data": {
      "image/png": "[encoded data removed]",
      "text/plain": [
       "<Figure size 432x288 with 1 Axes>"
      ]
     },
     "metadata": {},
     "output_type": "display_data"
    }
   ],
   "source": [
    "values,bins,hist = plt.hist(sample_inrix_trip_out['travel_time_h'],bins=50, range=(0,2), density = True)\n",
    "center = (bins[:-1] + bins[1:]) / 2.\n",
    "\n",
    "# Using all params and the stats function\n",
    "plt.plot(center,s.exponweib.pdf(center,*params),lw=4,label='Weibull pdf')\n",
    "# plt.plot(center,s.exponweib.sf(center,*params),lw=4,label='survival function')\n",
    "plt.xlabel('travel time (h)')\n",
    "plt.legend()\n",
    "plt.savefig('Plot/' + selected_state+ '/fitted_travel_time_curve.png', dpi = 300)"
   ]
  },
  {
   "cell_type": "code",
   "execution_count": 7,
   "id": "2d605926-d6e4-4ab4-ac9c-df469fdc4456",
   "metadata": {},
   "outputs": [
    {
     "name": "stdout",
     "output_type": "stream",
     "text": [
      "(1, 1.1883551257075007, 0, 0.34605314636038553)\n",
      "shape: 1.1883551257075007\n",
      "scale: 0.34605314636038553\n"
     ]
    }
   ],
   "source": [
    "#CA results for comparison\n",
    "params = s.exponweib.fit(sample_inrix_trip_out['travel_time_h'], floc=0, f0=1)\n",
    "shape = params[1]\n",
    "scale = params[3]\n",
    "print(params)\n",
    "print('shape:', shape)\n",
    "print('scale:',scale)"
   ]
  },
  {
   "cell_type": "code",
   "execution_count": 9,
   "id": "59782870-e82f-4536-a251-4cd5ab237089",
   "metadata": {},
   "outputs": [
    {
     "data": {
      "image/png": "[encoded data removed]",
      "text/plain": [
       "<Figure size 432x288 with 1 Axes>"
      ]
     },
     "metadata": {},
     "output_type": "display_data"
    }
   ],
   "source": [
    "values,bins,hist = plt.hist(sample_inrix_trip_out['travel_time_h'],bins=50, range=(0,2), density = True)\n",
    "center = (bins[:-1] + bins[1:]) / 2.\n",
    "\n",
    "# Using all params and the stats function\n",
    "plt.plot(center,s.exponweib.pdf(center,*params),lw=4,label='Weibull pdf')\n",
    "# plt.plot(center,s.exponweib.sf(center,*params),lw=4,label='survival function')\n",
    "plt.xlabel('travel time (h)')\n",
    "plt.legend()\n",
    "plt.savefig('Plot/' + selected_state+ '/fitted_travel_time_curve.png', dpi = 300)"
   ]
  },
  {
   "cell_type": "code",
   "execution_count": null,
   "id": "535cb2ee-0933-44ae-a50c-8f9707e82f13",
   "metadata": {},
   "outputs": [],
   "source": []
  }
 ],
 "metadata": {
  "kernelspec": {
   "display_name": "Python 3 (ipykernel)",
   "language": "python",
   "name": "python3"
  },
  "language_info": {
   "codemirror_mode": {
    "name": "ipython",
    "version": 3
   },
   "file_extension": ".py",
   "mimetype": "text/x-python",
   "name": "python",
   "nbconvert_exporter": "python",
   "pygments_lexer": "ipython3",
   "version": "3.8.8"
  }
 },
 "nbformat": 4,
 "nbformat_minor": 5
}
