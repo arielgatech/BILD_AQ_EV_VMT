{
 "cells": [
  {
   "cell_type": "code",
   "execution_count": 2,
   "id": "c9d1bea1-371e-4a1c-a451-f2fa91e5b172",
   "metadata": {},
   "outputs": [],
   "source": [
    "from pandas import read_csv\n",
    "import pandas as pd\n",
    "import numpy as np\n",
    "import os\n",
    "import matplotlib.pyplot as plt\n",
    "import seaborn as sns\n",
    "import shapely.wkt\n",
    "from shapely.geometry import MultiPolygon\n",
    "import geopandas as gpd\n",
    "import contextily as cx\n",
    "import csv\n",
    "from libpysal import weights\n",
    "import networkx as nx\n",
    "import geonetworkx as gnx\n",
    "# import momepy\n",
    "csv.field_size_limit(sys.maxsize)\n",
    "\n",
    "os.chdir('/Users/xiaodanxu/Library/CloudStorage/GoogleDrive-arielinseu@gmail.com/My Drive/GEMS/BILD-AQ')\n",
    "\n",
    "plt.style.use('ggplot')"
   ]
  },
  {
   "cell_type": "code",
   "execution_count": 3,
   "id": "65804430-e00b-4409-8a3c-16dc46ce3d3c",
   "metadata": {},
   "outputs": [
    {
     "name": "stdout",
     "output_type": "stream",
     "text": [
      "1497\n"
     ]
    }
   ],
   "source": [
    "# define scenario/ analysis boundary\n",
    "state = 'TN'\n",
    "microtype_lookup = read_csv('data/ccst_geoid_key_tranps_geo_with_imputation.csv', sep = ',')\n",
    "microtype_by_state = microtype_lookup.loc[microtype_lookup['st_code'] == state]\n",
    "select_tracts = microtype_by_state.GEOID.unique()\n",
    "print(len(select_tracts))"
   ]
  },
  {
   "cell_type": "code",
   "execution_count": null,
   "id": "681629ff-615a-4b86-a286-63b5be60dd3b",
   "metadata": {},
   "outputs": [
    {
     "name": "stdout",
     "output_type": "stream",
     "text": [
      "result-1-csv-5.gz\n",
      "processing chunk 0\n",
      "processing chunk 10\n"
     ]
    }
   ],
   "source": [
    "# process second sources of routes\n",
    "all_files = os.listdir(\"/Volumes/LaCie/project_backup/GEMS_ROUTE/route/raw\")    \n",
    "gz_files = list(filter(lambda f: f.endswith('.gz'), all_files))\n",
    "# print(gz_files)\n",
    "\n",
    "select_tracts = select_tracts.astype(int)\n",
    "chunk_size = 50000\n",
    "for file in gz_files:\n",
    "    if file.startswith('._'):\n",
    "        continue\n",
    "#     if file in ['result-1-csv-5.gz', 'result-2-csv-2.gz']:\n",
    "#         continue\n",
    "    filename = file.split('.gz')[0]\n",
    "    print(file)\n",
    "#     aws_route = None\n",
    "    i = 0\n",
    "    for chunk in read_csv(\"/Volumes/LaCie/project_backup/GEMS_ROUTE/route/raw/\" + file, sep = ',', chunksize = chunk_size):\n",
    "        outfile_name = filename + '_' + str(i) + '.geojson'\n",
    "        if i % 10 == 0:\n",
    "            print('processing chunk ' + str(i))\n",
    "        chunk.columns = ['source', 'destination', 'distance', 'ascend', 'descend', 'geometry']\n",
    "        chunk.loc[:, ['source', 'destination']] = chunk.loc[:, ['source', 'destination']].astype(int)\n",
    "        chunk_selected = chunk.loc[chunk['source'].isin(select_tracts)]\n",
    "        chunk_selected = chunk_selected.loc[chunk_selected['destination'].isin(select_tracts)]\n",
    "#         aws_route = pd.concat([aws_route, chunk_selected])\n",
    "        if len(chunk_selected) == 0:\n",
    "            i += 1\n",
    "            continue\n",
    "        chunk_selected['geometry'] = chunk_selected['geometry'].apply(shapely.wkt.loads)\n",
    "        routes2_gdf = gpd.GeoDataFrame(chunk_selected, crs='epsg:4326')\n",
    "        routes2_gdf.to_file('/Volumes/LaCie/project_backup/GEMS_ROUTE/route/processed/TN/' + outfile_name, driver='GeoJSON')\n",
    "#         routes2_gdf.head(5)\n",
    "#         ax = routes2_gdf.plot(figsize = (12, 8), linewidth=.5, alpha = 0.5)\n",
    "#         cx.add_basemap(ax, crs = 'EPSG:4326', source = cx.providers.Stamen.TonerLite)\n",
    "#         plt.savefig('results/aws_sample_route_2.png',dpi = 200)\n",
    "#         plt.show()       \n",
    "        i += 1\n",
    "        break\n",
    "    break"
   ]
  },
  {
   "cell_type": "code",
   "execution_count": null,
   "id": "c017ddbb-2271-4991-9a4b-b1f222f29380",
   "metadata": {},
   "outputs": [],
   "source": []
  }
 ],
 "metadata": {
  "kernelspec": {
   "display_name": "Python 3 (ipykernel)",
   "language": "python",
   "name": "python3"
  },
  "language_info": {
   "codemirror_mode": {
    "name": "ipython",
    "version": 3
   },
   "file_extension": ".py",
   "mimetype": "text/x-python",
   "name": "python",
   "nbconvert_exporter": "python",
   "pygments_lexer": "ipython3",
   "version": "3.8.8"
  }
 },
 "nbformat": 4,
 "nbformat_minor": 5
}
