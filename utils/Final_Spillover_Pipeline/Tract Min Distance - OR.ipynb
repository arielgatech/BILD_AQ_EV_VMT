{
 "cells": [
  {
   "cell_type": "code",
   "execution_count": 1,
   "id": "c41499fb",
   "metadata": {},
   "outputs": [],
   "source": [
    "import geopy.distance\n",
    "import pandas as pd\n",
    "import numpy as np\n",
    "import os\n",
    "import csv\n",
    "#import shapefile\n",
    "import matplotlib.pyplot as plt"
   ]
  },
  {
   "cell_type": "markdown",
   "id": "14a6323b",
   "metadata": {},
   "source": [
    "## 1 - Creating the new dataframe"
   ]
  },
  {
   "cell_type": "code",
   "execution_count": 2,
   "id": "6d01f24f",
   "metadata": {},
   "outputs": [],
   "source": [
    "csv_file_path = 'Downloads/distance_matrix_by_tracts_OR.csv'\n",
    "df = pd.read_csv(csv_file_path)"
   ]
  },
  {
   "cell_type": "code",
   "execution_count": 3,
   "id": "7602037b",
   "metadata": {},
   "outputs": [
    {
     "data": {
      "text/html": [
       "<div>\n",
       "<style scoped>\n",
       "    .dataframe tbody tr th:only-of-type {\n",
       "        vertical-align: middle;\n",
       "    }\n",
       "\n",
       "    .dataframe tbody tr th {\n",
       "        vertical-align: top;\n",
       "    }\n",
       "\n",
       "    .dataframe thead th {\n",
       "        text-align: right;\n",
       "    }\n",
       "</style>\n",
       "<table border=\"1\" class=\"dataframe\">\n",
       "  <thead>\n",
       "    <tr style=\"text-align: right;\">\n",
       "      <th></th>\n",
       "      <th>Unnamed: 0</th>\n",
       "      <th>origin</th>\n",
       "      <th>destination</th>\n",
       "      <th>distance</th>\n",
       "    </tr>\n",
       "  </thead>\n",
       "  <tbody>\n",
       "    <tr>\n",
       "      <th>0</th>\n",
       "      <td>1</td>\n",
       "      <td>41029001900</td>\n",
       "      <td>6001400100</td>\n",
       "      <td>299.483284</td>\n",
       "    </tr>\n",
       "    <tr>\n",
       "      <th>1</th>\n",
       "      <td>2</td>\n",
       "      <td>41029002100</td>\n",
       "      <td>6001400100</td>\n",
       "      <td>299.948081</td>\n",
       "    </tr>\n",
       "    <tr>\n",
       "      <th>2</th>\n",
       "      <td>3</td>\n",
       "      <td>41029002200</td>\n",
       "      <td>6001400100</td>\n",
       "      <td>298.366958</td>\n",
       "    </tr>\n",
       "    <tr>\n",
       "      <th>3</th>\n",
       "      <td>4</td>\n",
       "      <td>41029002300</td>\n",
       "      <td>6001400100</td>\n",
       "      <td>294.933344</td>\n",
       "    </tr>\n",
       "    <tr>\n",
       "      <th>4</th>\n",
       "      <td>5</td>\n",
       "      <td>41035970600</td>\n",
       "      <td>6001400100</td>\n",
       "      <td>290.683531</td>\n",
       "    </tr>\n",
       "  </tbody>\n",
       "</table>\n",
       "</div>"
      ],
      "text/plain": [
       "   Unnamed: 0       origin  destination    distance\n",
       "0           1  41029001900   6001400100  299.483284\n",
       "1           2  41029002100   6001400100  299.948081\n",
       "2           3  41029002200   6001400100  298.366958\n",
       "3           4  41029002300   6001400100  294.933344\n",
       "4           5  41035970600   6001400100  290.683531"
      ]
     },
     "execution_count": 3,
     "metadata": {},
     "output_type": "execute_result"
    }
   ],
   "source": [
    "df.head()"
   ]
  },
  {
   "cell_type": "code",
   "execution_count": 4,
   "id": "b753e31b",
   "metadata": {},
   "outputs": [
    {
     "data": {
      "text/plain": [
       "1846410"
      ]
     },
     "execution_count": 4,
     "metadata": {},
     "output_type": "execute_result"
    }
   ],
   "source": [
    "len(df)"
   ]
  },
  {
   "cell_type": "code",
   "execution_count": 7,
   "id": "109029be",
   "metadata": {},
   "outputs": [],
   "source": [
    "# First check - make sure there are no internal trips (i.e. tract in OR to tract in OR)"
   ]
  },
  {
   "cell_type": "code",
   "execution_count": 10,
   "id": "2fb6812d",
   "metadata": {},
   "outputs": [],
   "source": [
    "val1 = 41029001900\n",
    "val2 = 41029001900\n",
    "row_exists = (df['origin'] == val1) & (df['destination'] == val2)"
   ]
  },
  {
   "cell_type": "code",
   "execution_count": 11,
   "id": "9aba57f3",
   "metadata": {},
   "outputs": [
    {
     "name": "stdout",
     "output_type": "stream",
     "text": [
      "Row exists\n"
     ]
    }
   ],
   "source": [
    "if row_exists.any():\n",
    "    print(\"Row exists\")\n",
    "else:\n",
    "    print(\"Row does not exist\")"
   ]
  },
  {
   "cell_type": "code",
   "execution_count": 12,
   "id": "ef11bf95",
   "metadata": {},
   "outputs": [],
   "source": [
    "# Need to flag destinations in California\n",
    "# State GEOID is 53. Hence numbers between 6000000000 and 6999999999 are in California\n",
    "df['dest_OR'] = np.where((df['destination'] >= 41000000000) & (df['destination'] <= 41999999999) , 1, 0)"
   ]
  },
  {
   "cell_type": "code",
   "execution_count": 13,
   "id": "38b6f2dd",
   "metadata": {},
   "outputs": [
    {
     "data": {
      "text/html": [
       "<div>\n",
       "<style scoped>\n",
       "    .dataframe tbody tr th:only-of-type {\n",
       "        vertical-align: middle;\n",
       "    }\n",
       "\n",
       "    .dataframe tbody tr th {\n",
       "        vertical-align: top;\n",
       "    }\n",
       "\n",
       "    .dataframe thead th {\n",
       "        text-align: right;\n",
       "    }\n",
       "</style>\n",
       "<table border=\"1\" class=\"dataframe\">\n",
       "  <thead>\n",
       "    <tr style=\"text-align: right;\">\n",
       "      <th></th>\n",
       "      <th>Unnamed: 0</th>\n",
       "      <th>origin</th>\n",
       "      <th>destination</th>\n",
       "      <th>distance</th>\n",
       "      <th>dest_OR</th>\n",
       "    </tr>\n",
       "  </thead>\n",
       "  <tbody>\n",
       "    <tr>\n",
       "      <th>0</th>\n",
       "      <td>1</td>\n",
       "      <td>41029001900</td>\n",
       "      <td>6001400100</td>\n",
       "      <td>299.483284</td>\n",
       "      <td>0</td>\n",
       "    </tr>\n",
       "    <tr>\n",
       "      <th>1</th>\n",
       "      <td>2</td>\n",
       "      <td>41029002100</td>\n",
       "      <td>6001400100</td>\n",
       "      <td>299.948081</td>\n",
       "      <td>0</td>\n",
       "    </tr>\n",
       "    <tr>\n",
       "      <th>2</th>\n",
       "      <td>3</td>\n",
       "      <td>41029002200</td>\n",
       "      <td>6001400100</td>\n",
       "      <td>298.366958</td>\n",
       "      <td>0</td>\n",
       "    </tr>\n",
       "    <tr>\n",
       "      <th>3</th>\n",
       "      <td>4</td>\n",
       "      <td>41029002300</td>\n",
       "      <td>6001400100</td>\n",
       "      <td>294.933344</td>\n",
       "      <td>0</td>\n",
       "    </tr>\n",
       "    <tr>\n",
       "      <th>4</th>\n",
       "      <td>5</td>\n",
       "      <td>41035970600</td>\n",
       "      <td>6001400100</td>\n",
       "      <td>290.683531</td>\n",
       "      <td>0</td>\n",
       "    </tr>\n",
       "  </tbody>\n",
       "</table>\n",
       "</div>"
      ],
      "text/plain": [
       "   Unnamed: 0       origin  destination    distance  dest_OR\n",
       "0           1  41029001900   6001400100  299.483284        0\n",
       "1           2  41029002100   6001400100  299.948081        0\n",
       "2           3  41029002200   6001400100  298.366958        0\n",
       "3           4  41029002300   6001400100  294.933344        0\n",
       "4           5  41035970600   6001400100  290.683531        0"
      ]
     },
     "execution_count": 13,
     "metadata": {},
     "output_type": "execute_result"
    }
   ],
   "source": [
    "df.head()"
   ]
  },
  {
   "cell_type": "code",
   "execution_count": 14,
   "id": "0d8715fa",
   "metadata": {},
   "outputs": [],
   "source": [
    "# Filter out WA destinations\n",
    "df_out=df[df['dest_OR']==0]"
   ]
  },
  {
   "cell_type": "code",
   "execution_count": 15,
   "id": "ae8ee3c1",
   "metadata": {},
   "outputs": [],
   "source": [
    "# Calculate the minimum distance for every origin\n",
    "# Output: origin tract - minimum distance to out of state tract - tract\n",
    "min_dist_out = df.loc[df_out.groupby('origin')['distance'].idxmin()]\n",
    "\n",
    "#print(min_dist_out)"
   ]
  },
  {
   "cell_type": "code",
   "execution_count": 16,
   "id": "a85eab00",
   "metadata": {},
   "outputs": [
    {
     "data": {
      "text/html": [
       "<div>\n",
       "<style scoped>\n",
       "    .dataframe tbody tr th:only-of-type {\n",
       "        vertical-align: middle;\n",
       "    }\n",
       "\n",
       "    .dataframe tbody tr th {\n",
       "        vertical-align: top;\n",
       "    }\n",
       "\n",
       "    .dataframe thead th {\n",
       "        text-align: right;\n",
       "    }\n",
       "</style>\n",
       "<table border=\"1\" class=\"dataframe\">\n",
       "  <thead>\n",
       "    <tr style=\"text-align: right;\">\n",
       "      <th></th>\n",
       "      <th>Unnamed: 0</th>\n",
       "      <th>origin</th>\n",
       "      <th>destination</th>\n",
       "      <th>distance</th>\n",
       "      <th>dest_OR</th>\n",
       "    </tr>\n",
       "  </thead>\n",
       "  <tbody>\n",
       "    <tr>\n",
       "      <th>164891</th>\n",
       "      <td>164892</td>\n",
       "      <td>41001950100</td>\n",
       "      <td>16087970300</td>\n",
       "      <td>54.874758</td>\n",
       "      <td>0</td>\n",
       "    </tr>\n",
       "    <tr>\n",
       "      <th>164892</th>\n",
       "      <td>164893</td>\n",
       "      <td>41001950200</td>\n",
       "      <td>16087970300</td>\n",
       "      <td>46.856612</td>\n",
       "      <td>0</td>\n",
       "    </tr>\n",
       "    <tr>\n",
       "      <th>164893</th>\n",
       "      <td>164894</td>\n",
       "      <td>41001950300</td>\n",
       "      <td>16087970300</td>\n",
       "      <td>26.776827</td>\n",
       "      <td>0</td>\n",
       "    </tr>\n",
       "    <tr>\n",
       "      <th>164894</th>\n",
       "      <td>164895</td>\n",
       "      <td>41001950400</td>\n",
       "      <td>16087970300</td>\n",
       "      <td>44.792487</td>\n",
       "      <td>0</td>\n",
       "    </tr>\n",
       "    <tr>\n",
       "      <th>164895</th>\n",
       "      <td>164896</td>\n",
       "      <td>41001950500</td>\n",
       "      <td>16087970300</td>\n",
       "      <td>49.020114</td>\n",
       "      <td>0</td>\n",
       "    </tr>\n",
       "  </tbody>\n",
       "</table>\n",
       "</div>"
      ],
      "text/plain": [
       "        Unnamed: 0       origin  destination   distance  dest_OR\n",
       "164891      164892  41001950100  16087970300  54.874758        0\n",
       "164892      164893  41001950200  16087970300  46.856612        0\n",
       "164893      164894  41001950300  16087970300  26.776827        0\n",
       "164894      164895  41001950400  16087970300  44.792487        0\n",
       "164895      164896  41001950500  16087970300  49.020114        0"
      ]
     },
     "execution_count": 16,
     "metadata": {},
     "output_type": "execute_result"
    }
   ],
   "source": [
    "min_dist_out.head()"
   ]
  },
  {
   "cell_type": "code",
   "execution_count": 17,
   "id": "a59c8d4a",
   "metadata": {},
   "outputs": [
    {
     "name": "stdout",
     "output_type": "stream",
     "text": [
      "Row exists\n"
     ]
    }
   ],
   "source": [
    "val1 = 41001950100\n",
    "row_exists = (min_dist_out['origin'] == val1)\n",
    "if row_exists.any():\n",
    "    print(\"Row exists\")\n",
    "else:\n",
    "    print(\"Row does not exist\")"
   ]
  },
  {
   "cell_type": "code",
   "execution_count": 18,
   "id": "278b9321",
   "metadata": {},
   "outputs": [],
   "source": [
    "min_dist_out = min_dist_out.reset_index()\n",
    "final_df = min_dist_out[['origin','destination','distance']].copy()"
   ]
  },
  {
   "cell_type": "code",
   "execution_count": 19,
   "id": "13b6b8d3",
   "metadata": {
    "scrolled": true
   },
   "outputs": [
    {
     "data": {
      "text/html": [
       "<div>\n",
       "<style scoped>\n",
       "    .dataframe tbody tr th:only-of-type {\n",
       "        vertical-align: middle;\n",
       "    }\n",
       "\n",
       "    .dataframe tbody tr th {\n",
       "        vertical-align: top;\n",
       "    }\n",
       "\n",
       "    .dataframe thead th {\n",
       "        text-align: right;\n",
       "    }\n",
       "</style>\n",
       "<table border=\"1\" class=\"dataframe\">\n",
       "  <thead>\n",
       "    <tr style=\"text-align: right;\">\n",
       "      <th></th>\n",
       "      <th>origin</th>\n",
       "      <th>destination</th>\n",
       "      <th>distance</th>\n",
       "    </tr>\n",
       "  </thead>\n",
       "  <tbody>\n",
       "    <tr>\n",
       "      <th>0</th>\n",
       "      <td>41001950100</td>\n",
       "      <td>16087970300</td>\n",
       "      <td>54.874758</td>\n",
       "    </tr>\n",
       "    <tr>\n",
       "      <th>1</th>\n",
       "      <td>41001950200</td>\n",
       "      <td>16087970300</td>\n",
       "      <td>46.856612</td>\n",
       "    </tr>\n",
       "    <tr>\n",
       "      <th>2</th>\n",
       "      <td>41001950300</td>\n",
       "      <td>16087970300</td>\n",
       "      <td>26.776827</td>\n",
       "    </tr>\n",
       "    <tr>\n",
       "      <th>3</th>\n",
       "      <td>41001950400</td>\n",
       "      <td>16087970300</td>\n",
       "      <td>44.792487</td>\n",
       "    </tr>\n",
       "    <tr>\n",
       "      <th>4</th>\n",
       "      <td>41001950500</td>\n",
       "      <td>16087970300</td>\n",
       "      <td>49.020114</td>\n",
       "    </tr>\n",
       "  </tbody>\n",
       "</table>\n",
       "</div>"
      ],
      "text/plain": [
       "        origin  destination   distance\n",
       "0  41001950100  16087970300  54.874758\n",
       "1  41001950200  16087970300  46.856612\n",
       "2  41001950300  16087970300  26.776827\n",
       "3  41001950400  16087970300  44.792487\n",
       "4  41001950500  16087970300  49.020114"
      ]
     },
     "execution_count": 19,
     "metadata": {},
     "output_type": "execute_result"
    }
   ],
   "source": [
    "final_df.head()"
   ]
  },
  {
   "cell_type": "code",
   "execution_count": 20,
   "id": "54c5f72d",
   "metadata": {},
   "outputs": [
    {
     "data": {
      "text/plain": [
       "828"
      ]
     },
     "execution_count": 20,
     "metadata": {},
     "output_type": "execute_result"
    }
   ],
   "source": [
    "len(final_df)"
   ]
  },
  {
   "cell_type": "code",
   "execution_count": 21,
   "id": "1e9bbee3",
   "metadata": {},
   "outputs": [],
   "source": [
    "# Flag: California has 838 tracts"
   ]
  },
  {
   "cell_type": "code",
   "execution_count": 22,
   "id": "9c71fd51",
   "metadata": {},
   "outputs": [],
   "source": [
    "final_df.to_csv('tract_to_border_distance_OR.csv')"
   ]
  },
  {
   "cell_type": "markdown",
   "id": "4c4cc683",
   "metadata": {},
   "source": [
    "## 2 - Testing the output"
   ]
  },
  {
   "cell_type": "markdown",
   "id": "9b0353d1",
   "metadata": {},
   "source": [
    "Where are the destinations?"
   ]
  },
  {
   "cell_type": "code",
   "execution_count": 18,
   "id": "5ee3a7c4",
   "metadata": {},
   "outputs": [],
   "source": [
    "final_df['First2'] = final_df['destination'].astype(str).str[:2]"
   ]
  },
  {
   "cell_type": "code",
   "execution_count": 19,
   "id": "9b57b3cd",
   "metadata": {},
   "outputs": [
    {
     "data": {
      "text/plain": [
       "32    6462\n",
       "40    1461\n",
       "41     115\n",
       "Name: First2, dtype: int64"
      ]
     },
     "execution_count": 19,
     "metadata": {},
     "output_type": "execute_result"
    }
   ],
   "source": [
    "final_df['First2'].value_counts()"
   ]
  },
  {
   "cell_type": "code",
   "execution_count": 20,
   "id": "6ed6e943",
   "metadata": {},
   "outputs": [],
   "source": [
    "# 32 is Nevada, # 41 is Oregon, #4 is Arizona"
   ]
  },
  {
   "cell_type": "markdown",
   "id": "f9dfdcc1",
   "metadata": {},
   "source": [
    "Most common destinations"
   ]
  },
  {
   "cell_type": "code",
   "execution_count": 22,
   "id": "1d754bb4",
   "metadata": {},
   "outputs": [],
   "source": [
    "dest_count_df = final_df['destination'].value_counts().reset_index()\n",
    "dest_count_df.columns = ['GEOID', 'Count']"
   ]
  },
  {
   "cell_type": "code",
   "execution_count": 23,
   "id": "2cda1a9a",
   "metadata": {},
   "outputs": [
    {
     "data": {
      "text/html": [
       "<div>\n",
       "<style scoped>\n",
       "    .dataframe tbody tr th:only-of-type {\n",
       "        vertical-align: middle;\n",
       "    }\n",
       "\n",
       "    .dataframe tbody tr th {\n",
       "        vertical-align: top;\n",
       "    }\n",
       "\n",
       "    .dataframe thead th {\n",
       "        text-align: right;\n",
       "    }\n",
       "</style>\n",
       "<table border=\"1\" class=\"dataframe\">\n",
       "  <thead>\n",
       "    <tr style=\"text-align: right;\">\n",
       "      <th></th>\n",
       "      <th>GEOID</th>\n",
       "      <th>Count</th>\n",
       "    </tr>\n",
       "  </thead>\n",
       "  <tbody>\n",
       "    <tr>\n",
       "      <th>0</th>\n",
       "      <td>32023960405</td>\n",
       "      <td>2903</td>\n",
       "    </tr>\n",
       "    <tr>\n",
       "      <th>1</th>\n",
       "      <td>32005001800</td>\n",
       "      <td>1206</td>\n",
       "    </tr>\n",
       "    <tr>\n",
       "      <th>2</th>\n",
       "      <td>32005990000</td>\n",
       "      <td>1191</td>\n",
       "    </tr>\n",
       "    <tr>\n",
       "      <th>3</th>\n",
       "      <td>4012020602</td>\n",
       "      <td>789</td>\n",
       "    </tr>\n",
       "    <tr>\n",
       "      <th>4</th>\n",
       "      <td>4027011403</td>\n",
       "      <td>423</td>\n",
       "    </tr>\n",
       "  </tbody>\n",
       "</table>\n",
       "</div>"
      ],
      "text/plain": [
       "         GEOID  Count\n",
       "0  32023960405   2903\n",
       "1  32005001800   1206\n",
       "2  32005990000   1191\n",
       "3   4012020602    789\n",
       "4   4027011403    423"
      ]
     },
     "execution_count": 23,
     "metadata": {},
     "output_type": "execute_result"
    }
   ],
   "source": [
    "dest_count_df['GEOID'] = dest_count_df['GEOID'].astype(str)\n",
    "dest_count_df.head()"
   ]
  }
 ],
 "metadata": {
  "kernelspec": {
   "display_name": "Python 3 (ipykernel)",
   "language": "python",
   "name": "python3"
  },
  "language_info": {
   "codemirror_mode": {
    "name": "ipython",
    "version": 3
   },
   "file_extension": ".py",
   "mimetype": "text/x-python",
   "name": "python",
   "nbconvert_exporter": "python",
   "pygments_lexer": "ipython3",
   "version": "3.10.12"
  }
 },
 "nbformat": 4,
 "nbformat_minor": 5
}
